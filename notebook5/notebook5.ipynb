{
 "cells": [
  {
   "cell_type": "markdown",
   "id": "6374ed5c-fba4-4dfc-b711-940cf3e2b235",
   "metadata": {},
   "source": [
    "# Notebook 5: Analyzing Substance Use Epidemiology Research\n",
    "\n",
    "In this notebook, we'll discuss how data is used in large-scale public health studies of substance use, and its implications for epidemiology. Whereas past notebooks have centered around case studies, we'll have this conversation through a side-by-side analysis of the methods and findings of two epidemiology research papers.\n",
    "\n",
    "### Learning Objectives\n",
    "* How different epidemiological understandings of substance abuse inform reseaerch methods and public policy\n",
    "* Contextual limitations of epidemiology\n",
    "* Ideating on creative and bespoke ways to visualize data\n",
    "* Creating geographic bubble maps using Plotly\n",
    "* Merging dataframes on common columns\n",
    "\n",
    "\n",
    "### Table of Contents\n",
    "1. [Introduction](#1.-Introduction)\n",
    "2. [Source A: The Epidemiology of Drug Abuse](#2.-Source-A:-The-Epidemiology-of-Drug-Abuse)\n",
    "3. [Source B: Wastewater Analysis and Drugs](#3.-Source-B:-Wastewater-Analysis-and-Drugs)\n",
    "4. [Visualizing Narratives with Data](#4.-Visualizing-Narratives-with-Data)\n",
    "5. [Conclusion](#5.-Conclusion)"
   ]
  },
  {
   "cell_type": "code",
   "execution_count": null,
   "id": "4e5d780e-d904-4742-982f-4572835ba45d",
   "metadata": {},
   "outputs": [],
   "source": [
    "# Run this cell to install necessary dependencies\n",
    "# Run this cell by hitting 'Shift + Enter' or using the 'Run' button at the top!\n",
    "import numpy as np\n",
    "import pandas as pd\n",
    "import ipywidgets as widgets\n",
    "from ipywidgets import interact, interactive, fixed, interact_manual\n",
    "from IPython.display import display, HTML\n",
    "import otter\n",
    "generator = otter.Notebook()\n",
    "import plotly.express as px"
   ]
  },
  {
   "cell_type": "markdown",
   "id": "12bd33d9-af41-4bda-85c2-7b1bbef678ac",
   "metadata": {},
   "source": [
    "---\n",
    "## 1. Introduction\n",
    "\n",
    "Data science practitioners are often asked to review the ways that others make decisions and do research using data and offer their expertise. In this notebook, we'll practicing this skill.\n",
    "\n",
    "### What is epidemiology?\n",
    "\n",
    "<center><img src=\"images/epidemiology.png\" width=900></center>\n",
    "<center><i>Source: <a href=\"https://www.bu.edu/sph/news/articles/2021/epidemiology-now-is-the-time/\">Boston University</i></center><br>\n",
    "\n",
    "Epidemiology is the \"branch of medical science that deals with the incidence, distribution, and control of disease in a population\" ([Merriam-Webster](https://www.merriam-webster.com/dictionary/epidemiology)). Epidemiologists often work for federal, state, and local health departments, informing policy decisions to understand and curb disease spread.\n",
    "\n",
    "The first source that we'll be taking a look at comes from [The Journal of Clinical Pharmacology](https://accp1.onlinelibrary.wiley.com/doi/full/10.1002/jcph.1937) and was written by Martha J. Ignaszewski MD, FRCPC. The article goes through the epidemiology of the most common substance addictions in the United States. The second source that we'll be utilizing comes from the [European Monitoring Centre for Drugs and Drug Addiction](https://www.emcdda.europa.eu/publications/html/pods/waste-water-analysis_en) and features an analysis of wastewater and drugs in a handful of European cities.\n",
    "\n",
    "As we go through this notebook, you'll have a chance to investigate these analyses in further detail and discuss some of the findings that were most interesting to you.\n",
    "\n",
    "## 2. Source A: The Epidemiology of Drug Abuse\n",
    "\n",
    "Please read [The Epidemiology of Drug Abuse](https://accp1.onlinelibrary.wiley.com/doi/full/10.1002/jcph.1937) before continuing.\n",
    "\n",
    "### Paper Overview\n",
    "The author discusses the development of substance use disorders in the United States, and the importance of exploring changes in substance use over time, across age groups, and during the COVID-19 pandemic. Nicotine, alcohol, and cannabis are identified as the three most widely used substances in the United States.\n",
    "\n",
    "In their own sections, the author offers a finer grain analysis of nicotine, alcohol, and cannabis use trends in the United States by adolescents and adults. \n",
    "\n",
    "In the final three sections, on societal impact, treatment access, and COVID-19, the author discusses the uneven landscape in who is affected by substance use disorders and who is most able to receive treatment. The author concludes with an analysis of the big-picture effects of the COVID-19 pandemic on Americans' access to substances and treatment.\n",
    "\n"
   ]
  },
  {
   "cell_type": "markdown",
   "id": "68821933-3dc6-425a-80d0-cb222b633efd",
   "metadata": {},
   "source": [
    "<!-- BEGIN QUESTION -->\n",
    "\n",
    "<div class=\"alert alert-warning alert-danger\">\n",
    "<b>Question 2.1:</b> Write a couple sentences summarizing any findings that interested or surprised you the most.\n",
    "</div>\n",
    "\n",
    "<!--\n",
    "BEGIN QUESTION\n",
    "name: q2.1\n",
    "points: 1\n",
    "manual: true\n",
    "-->"
   ]
  },
  {
   "cell_type": "markdown",
   "id": "41949aba-4a01-42b9-a30a-bf9b899d2c75",
   "metadata": {},
   "source": [
    "*Double-click to edit this cell with your answer.*"
   ]
  },
  {
   "cell_type": "markdown",
   "id": "1f4907a0-b7ff-42dd-a697-5a11d11c9058",
   "metadata": {},
   "source": [
    "<!-- END QUESTION -->\n",
    "\n",
    "<!-- BEGIN QUESTION -->\n",
    "\n",
    "<div class=\"alert alert-warning alert-danger\">\n",
    "<b>Question 2.2:</b> If you were a data scientist asked to write a report providing context for possible policy interventions on substance use based on what you've read, what would it include?\n",
    "</div>\n",
    "\n",
    "<!--\n",
    "BEGIN QUESTION\n",
    "name: q2.2\n",
    "points: 1\n",
    "manual: true\n",
    "-->"
   ]
  },
  {
   "cell_type": "markdown",
   "id": "482666a6-b8fc-44ff-8fcc-8c162623f24c",
   "metadata": {},
   "source": [
    "*Double-click to edit this cell with your answer.*"
   ]
  },
  {
   "cell_type": "markdown",
   "id": "a08a6340-ebf2-4836-891e-220f602aafe2",
   "metadata": {},
   "source": [
    "<!-- END QUESTION -->\n",
    "\n",
    "<!-- BEGIN QUESTION -->\n",
    "\n",
    "<div class=\"alert alert-warning alert-danger\">\n",
    "<b>Question 2.3:</b> In your own words, what does Ignaszewski mean by the \"bidirectional nature of the impact of substance use\" from the <i>Impact on Society</i> section? How else might we consider relationships and impacts of substance abuse beyond <b>two</b> directions?\n",
    "</div>\n",
    "\n",
    "<!--\n",
    "BEGIN QUESTION\n",
    "name: q2.3\n",
    "points: 1\n",
    "manual: true\n",
    "-->"
   ]
  },
  {
   "cell_type": "markdown",
   "id": "5e522c96-1721-4ef5-9bd1-25b30161674f",
   "metadata": {},
   "source": [
    "*Double-click to edit this cell with your answer.*"
   ]
  },
  {
   "cell_type": "markdown",
   "id": "350c5e7e-c3fb-4035-9bba-a78d93f923f6",
   "metadata": {},
   "source": [
    "<!-- END QUESTION -->\n",
    "\n",
    "<!-- BEGIN QUESTION -->\n",
    "\n",
    "<div class=\"alert alert-warning alert-danger\">\n",
    "<b>Question 2.4:</b> Discuss some of the shifts in substance and treatment access that came about during the pandemic. Were any of these shifts \"positive,\" according to Ignaszewski?\n",
    "</div>\n",
    "\n",
    "<!--\n",
    "BEGIN QUESTION\n",
    "name: q2.4\n",
    "points: 1\n",
    "manual: true\n",
    "-->"
   ]
  },
  {
   "cell_type": "markdown",
   "id": "cea680d3-a897-4c54-9237-d35f5a2677b1",
   "metadata": {},
   "source": [
    "*Double-click to edit this cell with your answer.*"
   ]
  },
  {
   "cell_type": "markdown",
   "id": "fe023c64-16a0-4d29-9201-b5aab6b14e00",
   "metadata": {},
   "source": [
    "<!-- END QUESTION -->\n",
    "\n",
    "## 3. Source B: Wastewater Analysis and Drugs\n",
    "\n",
    "Please read [Wastewater analysis and drugs — a European multi-city study](https://www.emcdda.europa.eu/publications/html/pods/waste-water-analysis_en) before continuing. The article contains a number of dynamic visualizations which can make the page load slowly. If you're having trouble with this, try [opening the article as a PDF instead](https://www.euda.europa.eu/sites/default/files/pdf/13735_en.pdf?600092).\n",
    "\n",
    "\n",
    "<center><img src=\"images/wastewater-testing.jpg\" width=\"900\"></center>\n",
    "<center><i>Source: <a href=\"https://www.mathematica.org/news/wastewater-data-offers-powerful-tool-in-confronting-opioid-epidemic#\">Mathematica</a></i></center>\n",
    "\n",
    "\n",
    "### Paper Overview"
   ]
  },
  {
   "cell_type": "markdown",
   "id": "7cd5c652-e6bb-442f-a43b-c853d919a2e4",
   "metadata": {},
   "source": [
    "Authors from the European Union Drug Agency analyze the findings of wastewater surveys taken from 128 European cities and towns. Wastewater analysis is a popular tool in epidemiology for estimating the prevalence of a disease or substance within a population. Notably, wastewater analysis continues to be used by the CDC to monitor the [prevalence of COVID-19 in the US](https://www.cdc.gov/nwss/rv/COVID19-nationaltrend.html).\n",
    "\n",
    "The data from this study was produced by testing wastewater for trace amounts of amphetamine, methamphetamine, ketamine, and MDMA (ecstasy) that are present in urine, and the urinary metabolites of cocaine and canabis (substances these drugs are broken down into in the body). The authors present key findings from the most recent complete year of data (2024), including estimated variations in where and when each drug is most commonly used.\n",
    "\n",
    "The authors provide some details on potential limitations of wastewater analysis for substance use epidemiology, and give a brief overview of methods used and ethical considerations."
   ]
  },
  {
   "cell_type": "markdown",
   "id": "688dbfb7-8b5f-4866-9cc4-3de7621eae85",
   "metadata": {},
   "source": [
    "<!-- BEGIN QUESTION -->\n",
    "    \n",
    "<div class=\"alert alert-warning alert-danger\">\n",
    "<b>Question 3.1:</b> After reading through and exploring the data provided by the study, write a few sentences about what information or visualizations you found most intriguing.\n",
    "</div>\n",
    "\n",
    "<!--\n",
    "BEGIN QUESTION\n",
    "name: q3.1\n",
    "points: 1\n",
    "manual: true\n",
    "-->"
   ]
  },
  {
   "cell_type": "markdown",
   "id": "8a850d65-744a-43e2-b104-dd9d24551eee",
   "metadata": {},
   "source": [
    "*Double-click to edit this cell with your answer.*"
   ]
  },
  {
   "cell_type": "markdown",
   "id": "1787943c-d473-41ef-b98a-5e3f38912ecc",
   "metadata": {},
   "source": [
    "<!-- END QUESTION -->\n",
    "\n",
    "<!-- BEGIN QUESTION -->\n",
    "    \n",
    "<div class=\"alert alert-warning alert-danger\">\n",
    "<b>Question 3.2:</b> Review the limitations section. Which of the stated limitations seems most significant to you? Why? There is no single correct answer.\n",
    "</div>\n",
    "\n",
    "<!--\n",
    "BEGIN QUESTION\n",
    "name: q3.2\n",
    "points: 1\n",
    "manual: true\n",
    "-->\n"
   ]
  },
  {
   "cell_type": "markdown",
   "id": "84af2c94-1746-4426-9ed7-23ad5343e85e",
   "metadata": {},
   "source": [
    "*Double-click to edit this cell with your answer*"
   ]
  },
  {
   "cell_type": "markdown",
   "id": "38064442-6d2e-407f-a37e-1e0abf56321c",
   "metadata": {},
   "source": [
    "<!-- END QUESTION -->\n",
    "\n",
    "<!-- BEGIN QUESTION -->\n",
    "    \n",
    "<div class=\"alert alert-warning alert-danger\">\n",
    "<b>Question 3.3:</b> One of the limitations the authors acknowledge is the difficulty of estimating how many people are producing the sewage at a given waste treatment facility. Why is this datapoint significant to scientists' back-calculations? What potential workaround do the authors mention that could help improve estimations of this datapoint? What are the added ethical considerations of using mobile data in this context?\n",
    "</div>\n",
    "\n",
    "<!--\n",
    "BEGIN QUESTION\n",
    "name: q3.3\n",
    "points: 1\n",
    "manual: true\n",
    "-->\n"
   ]
  },
  {
   "cell_type": "markdown",
   "id": "ca10453f-cf42-4f53-a3d2-e012d1d817e9",
   "metadata": {},
   "source": [
    "*Double-click to edit this cell with your answer*"
   ]
  },
  {
   "cell_type": "markdown",
   "id": "31eae04e-13ba-4942-9ae2-bb17b2de19de",
   "metadata": {},
   "source": [
    "<!-- END QUESTION -->\n",
    "\n",
    "## 4. Visualizing Narratives with Data\n",
    "### Data Exploration and Re-creation\n",
    "\n",
    "Let's re-create some of the visualizations produced in Source B to practice fundamental data science skills. Specifically, we'll recreate a bubble map like that in Figure 1 of the paper, visualizing the estimated daily average consumption of cannabis (in milligrams per 1000 people) consumed in each city from our data in 2024.\n",
    "\n",
    "Cannabis has only recently begun to be decriminalized in various jurisdictions around the world. In most places it remains a highly regulated, if not illegal, drug, though its cultural significance may vary markedly between jurisdictions. These complexities make understanding how cannabis is used all the more important to making informed public health decisions.\n",
    "    \n",
    "Run the cell below to load the [source data](https://www.euda.europa.eu/data/repository/drugs-municipal-wastewater-europe-source-data-2025_en) used by the EUDA (produced by EMCDDA and SCORE) in their analysis, and to remove columns we won't need for our analysis."
   ]
  },
  {
   "cell_type": "code",
   "execution_count": null,
   "id": "95cb5858-3d3b-4c70-a778-316e95590d4e",
   "metadata": {},
   "outputs": [],
   "source": [
    "# Just run this cell\n",
    "site_info = pd.read_csv(\"data/ww2025-site-info-table.csv\")\n",
    "all_data = pd.read_csv(\"data/ww2025-all-data.csv\")\n",
    "\n",
    "# Renaming a column in site_info to make merging with all_data easier, and remocing unneeded columns\n",
    "site_info = site_info.rename(columns={\"SiteID\": \"Site ID\"})\n",
    "site_info = site_info[[\"Site ID\", \"Latitude\", \"Longitude\"]]\n",
    "\n",
    "# Limiting all_data to data from the year 2024 tracking cannabis metabolites\n",
    "data_2024 = all_data[all_data[\"Year\"] == 2024]\n",
    "cannabis_data_2024 = data_2024[data_2024[\"Metabolite\"] == \"cannabis\"]\n",
    "cannabis_data_2024 = cannabis_data_2024[[ \"Site ID\", \"Year\", \"Metabolite\", \"Country\", \"City\", \"Daily mean\"]]"
   ]
  },
  {
   "cell_type": "code",
   "execution_count": null,
   "id": "6287863c-cd96-4c2a-986c-7d34278aaa34",
   "metadata": {},
   "outputs": [],
   "source": [
    "cannabis_data_2024"
   ]
  },
  {
   "cell_type": "code",
   "execution_count": null,
   "id": "82b1e3da-4724-4fd8-b82e-7a08404b7e9b",
   "metadata": {
    "scrolled": true
   },
   "outputs": [],
   "source": [
    "site_info"
   ]
  },
  {
   "cell_type": "markdown",
   "id": "5975d5e6-e8eb-46e2-b628-48edddc61df6",
   "metadata": {},
   "source": [
    "Before we can re-create the map in Figure 1, we'll need to **merge** the data from cannabis_data_2024 and site_info.\n",
    "\n",
    "Each city in our cannabis_data_2024 dataframe has a unique Site ID. To make a map comparing the consumption of cannabis across cities, we'll need the latitude and longitude of each site. Luckily, this information is provided in the site_info dataframe."
   ]
  },
  {
   "cell_type": "markdown",
   "id": "03bef356-5331-41a2-a1e6-48a97e94dbe7",
   "metadata": {},
   "source": [
    "<!-- BEGIN QUESTION -->\n",
    "    \n",
    "<div class=\"alert alert-warning alert-danger\">\n",
    "<b>Question 4.1:</b>  Fill in the elipses (\"...\") below to merge the cannabis_data_2024 dataframe with the site_info dataframe on the \"Site ID\" column. Consult the Pandas documentation on merging two dataframes <a href=\"https://pandas.pydata.org/docs/reference/api/pandas.merge.html\">here</a>, if necessary. Done correctly, cannabis_data_2024_locations should have eight columns: Those contained in cannabis_data_2024 <i>and</i> the Latitude and Longitude columns that correspond with each Site ID, as given in site_info. \n",
    "</div>\n",
    "\n",
    "<!--\n",
    "BEGIN QUESTION\n",
    "name: q4.1\n",
    "points: 1\n",
    "manual: true\n",
    "-->"
   ]
  },
  {
   "cell_type": "code",
   "execution_count": null,
   "id": "e2d763b1-6d29-4961-bfa3-04a4ebf95636",
   "metadata": {},
   "outputs": [],
   "source": [
    "cannabis_data_2024_locations = pd.merge(left=..., right=..., how=..., on=...)\n",
    "\n",
    "cannabis_data_2024_locations.head()"
   ]
  },
  {
   "cell_type": "markdown",
   "id": "b81c2b83-2cf5-4f64-aac2-3b6d5a8c082d",
   "metadata": {},
   "source": [
    "<!-- END QUESTION -->\n",
    "\n",
    "Run the cell below to create a bubble map of the data above using plotly. Pinch to zoom in and out on the map, and hover over each bubble to see the name of the city and the estimate of cannabis consumed each day in 2024 on average in that city, in milligrams per 1000 people. "
   ]
  },
  {
   "cell_type": "code",
   "execution_count": null,
   "id": "fdf2e423-80e6-4571-8654-c083b742a1e9",
   "metadata": {},
   "outputs": [],
   "source": [
    "# Just run this cell\n",
    "px.scatter_geo(cannabis_data_2024_locations, lat=\"Latitude\", lon=\"Longitude\", \n",
    "               hover_name=\"City\", size=\"Daily mean\", \n",
    "               projection=\"natural earth\", title=\"Relative geographical distribution of cannabis metabolite as detected in wastewater, 2024 (daily mean in mg/1000 people/day)\",\n",
    "               width=1200, height=700)"
   ]
  },
  {
   "cell_type": "markdown",
   "id": "52672761-e1a5-47b4-8926-d53e8188c9d3",
   "metadata": {},
   "source": [
    "Note that our dataset is missing data from the majority of cities and countries. This is because a number of cities have not participated in wastewater analysis (Seattle, for instance, is the only US city represented in the data), and not because no cannabis was found or consumed there. Be concious of the ways that missing data may inform the way we percieve the data we *can* see."
   ]
  },
  {
   "cell_type": "markdown",
   "id": "a45f3c52-765e-4596-98de-ca6471554bd1",
   "metadata": {},
   "source": [
    "<!-- BEGIN QUESTION -->\n",
    "    \n",
    "<div class=\"alert alert-warning alert-danger\">\n",
    "<b>Question 4.2:</b> Describe the choices the designers of the visualizations in Source B made, which we re-created partially above. How do these choices inform the story an audience may walk away with?\n",
    "</div>\n",
    "\n",
    "<!--\n",
    "BEGIN QUESTION\n",
    "name: q4.2\n",
    "points: 1\n",
    "manual: true\n",
    "-->"
   ]
  },
  {
   "cell_type": "markdown",
   "id": "b758b30a-b5ab-4a62-95f6-051ce08d1a59",
   "metadata": {},
   "source": [
    "*Double-click to edit this cell with your answer.*"
   ]
  },
  {
   "cell_type": "markdown",
   "id": "71725f52-6333-48fd-b25c-f54baf4887c2",
   "metadata": {},
   "source": [
    "<!-- END QUESTION -->\n",
    "\n",
    "Wastewater epidemiology of substance use can provide incredibly valuable information to public health officials and practitioners. Doctors, for instance, need to know when there's an increase in substances used in a given city so they can make informed and fast decisions on how to treat patients with suspected overdoses.\n",
    "\n",
    "<!-- BEGIN QUESTION -->\n",
    "    \n",
    "<div class=\"alert alert-warning alert-danger\">\n",
    "<b>Question 4.3:</b> Do you think that doctors should have access to wastewater analyses of substances used in a given region? What about police, or lawmakers? If your answer changes based on the recipient party, why do you think that is?\n",
    "</div>\n",
    "\n",
    "<!--\n",
    "BEGIN QUESTION\n",
    "name: q4.3\n",
    "points: 1\n",
    "manual: true\n",
    "-->"
   ]
  },
  {
   "cell_type": "markdown",
   "id": "5ab6fb76-86f8-402b-ad72-f2d2af3c907d",
   "metadata": {},
   "source": [
    "*Double-click to edit this cell with your answer.*"
   ]
  },
  {
   "cell_type": "markdown",
   "id": "9094a903-9f65-4d73-a5bb-1ae671ef736c",
   "metadata": {},
   "source": [
    "<!-- END QUESTION -->\n",
    "\n",
    "    \n",
    "As a data scientist, you may need to communicate ideas of how you plan to visualize data with a team before you can start working with the data directly. Often, the best way to go about communicating a bespoke visualization starts with putting pen to paper. In the next question, we ask you to try creating a \"back of the napkin\" visualization like this.\n",
    "\n",
    "Given your understanding of the data this study utilizes, and with the knowledge that these kinds of epidemiological reports have very real policy impacts for the people involved (such as creating or restricting access to medical treatment, criminalizing drug offenses, and informing the public), think about the many ways you might tell a number of different stories about substance use through different data visualizations.\n",
    "\n",
    "Make a preliminary sketch of how you would choose to visualize this data and upload it to bCourses. The sketch does not need to be overly detailed, but we encourage you to be creative. \n",
    "\n",
    "\n",
    "<div class=\"alert alert-block alert-info\">\n",
    "<b>Note:</b> If you're looking for inspiration, consider revisiting W.E.B. Du Bois' <a href=\"https://www.smithsonianmag.com/history/first-time-together-and-color-book-displays-web-du-bois-visionary-infographics-180970826/\"><i>Data Portraits</i></a>, and Mona Chalabi's <a href=\"https://www.theguardian.com/world/2017/feb/14/web-du-bois-racism-data-paris-african-americans-jobs\">updated versions</a>. You might also be interested in scrolling through the pieces from artist Mimi Ọnụọha's exhibition, <a href=\"https://www.bitforms.art/artwork/the-great-impossibility-2019-2\"><i>Everything that Didn't Fit</i></a>. Ọnụọha's visualizations, like Chalabi's, mimic the style of Du Bois' explicitly, but tell a very different story. How does she accomplish this?\n",
    "</div>\n",
    "\n",
    "<div class=\"alert alert-warning alert-danger\">\n",
    "<b>Question 4.4:</b> Upload a preliminary sketch of your visualization to the bCourses assignment for this question.\n",
    "</div>"
   ]
  },
  {
   "cell_type": "markdown",
   "id": "d1126d74-7a06-4250-82d0-d21012cb6ed4",
   "metadata": {},
   "source": [
    "## 5. Conclusion\n",
    "\n",
    "The epidemiological studies we looked at in this notebook use data science to communicate the state of substance use in a given region to relevant policy makers and officials. Data, in this way, is used to provide a sightline into conditions \"on the ground,\" and changes in the data reflect improving or worsening states of illicit drug consumption across communities. This way of thinking about monitoring and controlling substance use makes a number of assumptions. Before we close out our discussion, let's think about some of these assumptions.\n",
    "\n",
    "### Vulnerable Populations and Unreliable Numbers\n",
    "\n",
    "Drugs users are, in general, a vulnerable population, Drug users have unique medical needs, and are disproportionately subjected to medical surveillance and state violence. Epidemiological data is incredibly important, but also has acute potential to harm and infringe upon the dignity of vulnerable populations.\n",
    "\n",
    "Even broadly speaking, self-reported data is prone to be unreliable. This is especially the case in epedmiological contexts, where accurate data is imperative and subject matter is sensitive and/or stigmatized. It is very important for the state and institutions to figure out ways to access more accurate data so that public health officials can do their best work. Wastewater analysis is imperfect, but comes from this need.\n",
    "\n",
    "As with many of the data practices used to assess population attributes, wastewater analysis operates through proxies. This results in a number of encoded assumptions about substance use and users. Measuring the metabolites and residues of substances in wastewater gives scientists only a very rough picture of what is actually being consumed. The milligrams of benzoylecgonine (BE), the compound that cocaine is metabolized into in the body, found in the wastewater at a given processing plant does not capture how the cocaine was consumed, if the consumption was intentional, or how pure it is. Drugs like cocaine sometimes include additives, like baking soda, which can be used to dilute the supply of actual cocaine to increase profits. Othertimes, impure cocaine includes amphetamines, caffeine, and other substances are used to alter the effect of the drug, potentially making it more addictive or dangerous. Additionally, the use of wastewater analysis assumes that drug users (and patients, in general) have relationships with doctors that preclude honesty about drug use. As such, the technology of wastewater analysis becomes a way for data scientists to bypass the authority and expertise of drug users on the basis of their assumed dishonesty.\n",
    "\n",
    "<!-- BEGIN QUESTION -->\n",
    "    \n",
    "<div class=\"alert alert-warning alert-danger\">\n",
    "<b>Question 5.1:</b> Reflecting on your reading and in-class discussion of Hansen and Netherland's <i>White Opiods</i>, is wastewater analysis a technology of whiteness? Why or why not?\n",
    "</div>\n",
    "\n",
    "<!--\n",
    "BEGIN QUESTION\n",
    "name: q5.1\n",
    "points: 1\n",
    "manual: true\n",
    "-->"
   ]
  },
  {
   "cell_type": "markdown",
   "id": "c869f384-1dc1-4d9a-82db-4c43aaa42da1",
   "metadata": {},
   "source": [
    "*Double-click to edit this cell with your answer.*"
   ]
  },
  {
   "cell_type": "markdown",
   "id": "bf3d75dd-caee-45f9-9011-64a4a03b9e6c",
   "metadata": {},
   "source": [
    "<!-- END QUESTION -->\n",
    "\n",
    "<!-- BEGIN QUESTION -->\n",
    "    \n",
    "<div class=\"alert alert-warning alert-danger\">\n",
    "<b>Question 5.2:</b> Resources in water and wastewater infrastructure are not universal. Activists and community members in Flint, Michigan, are still fighting for justice and infrastructure rennovation since the water crisis began ten years ago (<a href=\"https://www.foodandwaterwatch.org/2024/04/25/flint-10-years-later/\">Food & Water Watch</a>). Offer some reflection on the use of resources for wastewater analysis in the context of infrastructure and resource inequity.\n",
    "</div>\n",
    "\n",
    "<!--\n",
    "BEGIN QUESTION\n",
    "name: q5.2\n",
    "points: 1\n",
    "manual: true\n",
    "-->"
   ]
  },
  {
   "cell_type": "markdown",
   "id": "0b06b770-759b-4748-9f3c-23c705b8e5bc",
   "metadata": {},
   "source": [
    "*Double-click to edit this cell with your answer*"
   ]
  },
  {
   "cell_type": "markdown",
   "id": "92b0bf8c-c8ae-4a5a-b01a-eb098d535b67",
   "metadata": {},
   "source": [
    "<!-- END QUESTION -->\n",
    "\n",
    "<!-- BEGIN QUESTION -->\n",
    "    \n",
    "<div class=\"alert alert-warning alert-danger\">\n",
    "<b>Question 5.3:</b> Which other contexts can you see wastewater analysis being used in in the future? How do you see this technology evolving? Are their risks in that evolution?\n",
    "</div>\n",
    "\n",
    "<!--\n",
    "BEGIN QUESTION\n",
    "name: q5.3\n",
    "points: 1\n",
    "manual: true\n",
    "-->"
   ]
  },
  {
   "cell_type": "markdown",
   "id": "842d563d-cd85-4858-901e-d1c0277bf7ca",
   "metadata": {},
   "source": [
    "*Double-click to edit this cell with your answer*"
   ]
  },
  {
   "cell_type": "markdown",
   "id": "54cd2ad7-ec30-43df-8f04-b1127fb4016b",
   "metadata": {},
   "source": [
    "<!-- END QUESTION -->\n",
    "\n",
    "<!-- BEGIN QUESTION -->\n",
    "\n",
    "<div class=\"alert alert-block alert-info\">\n",
    "<b>Labor Question:</b> How much time did you spend completing this module? Did you find outside resources that helped you? if so what were they?\n",
    "</div>\n",
    "\n",
    "\n",
    "<!--\n",
    "BEGIN QUESTION\n",
    "name: labor\n",
    "points: 1\n",
    "manual: true\n",
    "-->"
   ]
  },
  {
   "cell_type": "markdown",
   "id": "f284729e-b68f-4f4a-96cd-02ebcff18a92",
   "metadata": {},
   "source": [
    "*Double-click to edit this cell with your answer*"
   ]
  },
  {
   "cell_type": "markdown",
   "id": "2f7587cb-43bf-49d7-8a34-b6a5846fc5d8",
   "metadata": {},
   "source": [
    "---\n",
    "\n",
    "**Congratulations on finishing Notebook 5!**\n",
    "\n",
    "The cell below generates a link to download your notebook as a zip file, which you can then submit.\n",
    "\n",
    "**Before downloading, run all cells and save the notebook using `command`/`control` + `s` *or* clicking the save icon in the toolbar at the top of notebook. This is very important to ensure that all of your work shows up in the downloaded file!**"
   ]
  },
  {
   "cell_type": "code",
   "execution_count": null,
   "id": "d5dfe88d-d43f-413b-bfe8-7cc35d7dd6af",
   "metadata": {},
   "outputs": [],
   "source": [
    "# Run all above cells, save your notebook, and then run this cell to export your submission.\n",
    "# Download the zip file, which contains a copy of your notebook and your written responses.\n",
    "generator.export(\"notebook5.ipynb\")"
   ]
  }
 ],
 "metadata": {
  "kernelspec": {
   "display_name": "Python 3 (ipykernel)",
   "language": "python",
   "name": "python3"
  },
  "language_info": {
   "codemirror_mode": {
    "name": "ipython",
    "version": 3
   },
   "file_extension": ".py",
   "mimetype": "text/x-python",
   "name": "python",
   "nbconvert_exporter": "python",
   "pygments_lexer": "ipython3",
   "version": "3.11.11"
  }
 },
 "nbformat": 4,
 "nbformat_minor": 5
}
