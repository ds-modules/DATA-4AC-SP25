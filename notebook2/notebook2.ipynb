{
 "cells": [
  {
   "cell_type": "markdown",
   "metadata": {
    "#student": false
   },
   "source": [
    "# Notebook 2: Japanese-American Incarceration During World War II\n",
    "\n",
    "Executive Order 9066 was signed and issued by President Franklin Roosevelt on February 19, 1942. This order gave the U.S. army authorization to evacuate any individual considered a threat to national security from designated military exclusion zones along the West Coast to internment camps further inland. The passing of this executive order began the process of funneling Japanese-Americans into intermediate assembly centers and finally permanent internment centers. \n",
    "\n",
    "By working through this notebook, you will be able to visualize the forced movement of Japanese-Americans, from the West Coast of the United States, to scattered detainment camps, and eventually to cities throughout the country. \n",
    "\n",
    "This module is a living document. Please fill out the module feedback survey if you think there are ways we can improve it. To learn more about the vocabulary used visit the [Densho website](https://densho.org/terminology/). We encourage you to listen to [narratives of survivors](https://densho.org/campu/) to learn more about their lives during incarceration. \n",
    "\n",
    "### Learning Outcomes\n",
    "After completing this notebook, you will learn about:\n",
    "- The displacement of Japanese-Americans before and after incarceration\n",
    "- Basic data cleaning and exploratory data analysis\n",
    "- How data can restrict the types of analysis we can perform\n",
    "- Using different visualizations to discover traits about our data\n",
    "\n",
    "---\n",
    "\n",
    "### Table of Contents\n",
    "1. [Section 1: The Data Science Lifecycle](#Section-1:-The-Data-Science-Lifecycle)\n",
    "2. [Section 2: Data Discovery](#Section-2:-Data-Discovery)\n",
    "3. [Section 3: Exploratory Data Analysis](#Section-3:-Exploratory-Data-Analysis)\n",
    "4. [Section 4: Assembly Centers and Internment Centers](#Section-4:-Assembly-Centers-and-Internment-Camps)\n",
    "5. [Section 5: Mapping and Movement](#Section-5:-Mapping-and-Movement)\n",
    "\n",
    "**Dependencies**"
   ]
  },
  {
   "cell_type": "code",
   "execution_count": null,
   "metadata": {
    "#student": false
   },
   "outputs": [],
   "source": [
    "# Run this cell!\n",
    "import otter\n",
    "from IPython.display import HTML\n",
    "import pandas as pd\n",
    "import numpy as np\n",
    "import matplotlib.pyplot as plt\n",
    "import seaborn as sns\n",
    "import folium\n",
    "import plotly.express as px\n",
    "import plotly.figure_factory as ff\n",
    "import ipywidgets as widgets\n",
    "from ipywidgets import interact, interactive, fixed, interact_manual\n",
    "\n",
    "generator = otter.Notebook()\n",
    "\n",
    "relocations_cities = pd.read_csv(\"data/RelocationDestinations_Cities_LL.csv\")\n",
    "\n",
    "from IPython.core.display import HTML\n",
    "def css_styling():\n",
    "    styles = open(\"styles/custom.css\", \"r\").read()\n",
    "    return HTML(f\"<style>{styles}</style>\")\n",
    "css_styling()"
   ]
  },
  {
   "cell_type": "markdown",
   "metadata": {
    "#student": false
   },
   "source": [
    "---\n",
    "## Section 1: The Data Science Lifecycle\n",
    "\n",
    "In data science, we utilize large and diverse datasets to make conclusions and predictions about the world we live in. Doing so involves a process called the <b>data science lifecycle</b>, a high-level description of the stages of work that data scientists perform throughout a project. There are a number of data science lifecycles, but the one we will be working with in DATA-4AC centers the human contexts and ethics of data at every stage.\n",
    "\n",
    "<br><center><img src=\"images/ds_ethos_lifecycle.png\" width=\"450\"></center>\n",
    "\n",
    "<center><i>The Data Science Ethos Lifecycle, developed in part from the foundational data science lifescyle taught in Data 100. Image by Eva Newsom. LINK TO PAPER</i></center><br>\n",
    "\n",
    "This process is often iterated as new questions and problems emerge after the last step that enable data practitioners  to learn more about the characteristics and patterns of the world, which in turn informs the kinds of questions that are asked.\n",
    "\n",
    "In this notebook, we'll focus on the data discovery and exploratory data analysis stages. We'll first introduce the data sets used in this notebook and then take a deeper look into the data through exploratory data analysis (EDA). We perform EDA to uncover any patterns or features from the data and better understand the underlying structure. EDA can involve looking for outliers or anomalies, identifying important variables, and data visualization. "
   ]
  },
  {
   "cell_type": "markdown",
   "metadata": {
    "cell_id": "00003-d8788f7f-97b3-4d3a-882e-04f016c8ca26",
    "editable": true,
    "slideshow": {
     "slide_type": ""
    },
    "tags": []
   },
   "source": [
    "----\n",
    "\n",
    "## Section 2: Data Discovery\n",
    "### What is our data? Where does it come from? What is in it?\n",
    "\n",
    "Considering the context in which a dataset was produced is critical to beginning to make sense of the human contexts and ethics of a data science project. In this notebook, we are using two datasets with very different contexts for our analysis.\n",
    "\n",
    "<div class=\"alert alert-block alert-info\">\n",
    "    <p style=\"font-size\":15px\"><b>Note: </b>This notebook contains links to a number of external resources. Doing responsible data science requires following these links when provided, and seeking out sources yourself when they aren't made available to you. You are expected to investigate all of the sources provided to you moving forward. </p>\n",
    "</div>\n",
    "\n",
    "The first dataset we will be working with was manually digitized from tables in *The Evacuated People: A Quantitative Description*, a report published by the **War Relocation Authority (WRA)** in 1946. The WRA was established four years earlier via executive order by President Franklin D. Roosevelt to oversee the forced relocation of 120,313 Japanese-Americans. *The Evacuated People* contains statistics and more than 100 tables created by the WRA to facilitate and monitor the detainment of this population.\n",
    "\n",
    "<center><img src=\"images/FDR_exec_order.png\" width=\"450\"></center>\n",
    "<center><i>President Franklin D. Roosevelt signing the executive order that authorized the forced removal of \"enemy aliens.\" Image retrieved from the National Archives and Records Administration.</i></center>\n",
    "<br>\n",
    "\n",
    "\n",
    "The tables in this dataset were transcribed by hand by [Cooper Thomas](https://cooper-thomas.com). For this reason, there may be some human error. The datasets include the populations of each internment camp by month, the relocation destinations of those who were incarcerated, and the Japanese-American population in the United States before and during the war. Take a look at the original data [here](http://www.idaillinois.org/digital/collection/isl3/id/14045).\n",
    "\n",
    "The second dataset we're working with is from the story map \"Behind Barbed Wire,\" created by the Library of Congress. The data comes from newspapers that were produced by Japanese-American detainees while they lived in the camps. Camp newspapers circulated administrative announcements, events, vital statistics, news from other camps, and other information about daily camp life. They also included [comics](https://www.loc.gov/resource/sn84024049/1942-11-18/ed-1/?sp=7), opinion pieces, job opportunities, and even results from baseball games. These newspapers helped maintain a sense of normalcy for their detained authors and readers, a meaningful aspect of life in the camps that the WRA tables do not reflect. You can access the data and read about the newspapers [here](https://tinyurl.com/y4g5kq77)."
   ]
  },
  {
   "cell_type": "markdown",
   "metadata": {
    "editable": true,
    "slideshow": {
     "slide_type": ""
    },
    "tags": []
   },
   "source": [
    "<div class=\"alert alert-block alert-info\">\n",
    "    <p style=\"font-size\":15px\"><b>Note: </b>This dataset provides similar data, though not at the same scope as the data from the WRA report - we will discuss more in section 3. Data scientists will often use multiple data sets to build a clearer picture by combining them or analyzing both in parallel.</p>\n",
    "</div>"
   ]
  },
  {
   "cell_type": "markdown",
   "metadata": {},
   "source": [
    "\n",
    "<!-- BEGIN QUESTION -->\n",
    "\n",
    "<div class=\"alert alert-block alert-danger\">\n",
    "<b>Section 2, Question 1:</b> Take a moment to review the contexts of the two datasets we will be using in this notebook before answering the following questions.\n",
    "\n",
    "- Who created each? What was the purpose for the creation of each? How was each dataset used? By whom? \n",
    "- How might this context bear upon the data categories and values in each dataset? \n",
    "\n",
    "Hint: You can consider issues like comprehensibility or accuracy.\n",
    "</div>\n",
    "\n",
    "<!--\n",
    "BEGIN QUESTION\n",
    "name: q2a\n",
    "points: 1\n",
    "manual: true\n",
    "-->"
   ]
  },
  {
   "cell_type": "markdown",
   "metadata": {},
   "source": [
    "**Answer:** *Double click to edit this markdown cell with your answer*"
   ]
  },
  {
   "cell_type": "markdown",
   "metadata": {},
   "source": [
    "<!-- END QUESTION -->\n",
    "\n",
    "\n",
    "<center><img src=\"images/Posted_Japanese_American_Exclusion_Order.png\" width=\"450\"></center>\n",
    "<center> <i>This image is available from the United States Library of Congress's Prints and Photographs division.</i></center>\n",
    "<br>\n",
    "\n",
    "Below, we are loading in two datasets and doing a bit of **data cleaning**, which is the process of fixing or removing missing, incorrect, duplicate, or improperly formatted data. Take a minute to reflect on the embedded politics of the phrase \"data cleaning.\" Though an important phrase to know as a part of the data science vocabulary, *what does this language convey about data as something that can be \"dirty,\" and the role of the data scientist to \"clean\" it?*\n",
    "\n",
    "Below, we begin working with the manually transcribed data from the WRA tables and the data from the \"Behind Barbed Wire\" story map. Read the comments for an explanation of what the code is doing, but don't worry about understanding exactly how it works."
   ]
  },
  {
   "cell_type": "code",
   "execution_count": null,
   "metadata": {
    "#student": false
   },
   "outputs": [],
   "source": [
    "# Importing one of the WRA tables into a Pandas dataframe\n",
    "pop_by_month = pd.read_csv(\"data/CampPopulationsByMonth.csv\", thousands = ',')\n",
    "\n",
    "# Converting the data type of the 'date' column into a more workable format\n",
    "pop_by_month['Date']= pd.to_datetime(pop_by_month['Date']) \n",
    "\n",
    "# Importing the 'Behind Barbed Wire' data into a Pandas dataframe\n",
    "camps = pd.read_csv('data/BehindBarbedWire_StoryMap_InternmentCampLocationsMap_Data.csv')\n",
    "\n",
    "# Converting the data in the 'Maximum Population' column from strings of form \"1,000\" to floats of form 1000\n",
    "camps[\"Maximum Population\"] = camps[\"Maximum Population\"].str.replace(',', '')\n",
    "camps['Maximum Population'] = camps['Maximum Population'].astype(float)"
   ]
  },
  {
   "cell_type": "markdown",
   "metadata": {
    "#student": false
   },
   "source": [
    "We'll first look at the `pop_by_month` table, which has the population of each of the ten camps at the start of every month."
   ]
  },
  {
   "cell_type": "code",
   "execution_count": null,
   "metadata": {
    "#student": false
   },
   "outputs": [],
   "source": [
    "# We use .head(5) to only display the first 5 rows of the data\n",
    "pop_by_month.head(5)"
   ]
  },
  {
   "cell_type": "markdown",
   "metadata": {
    "#student": false
   },
   "source": [
    "The `camps` table from \"Behind Barbed Wire\" contains the information on the internment camp's, name, city location, state location, latitude, longitude, opening date, closing date, and their maximum populations."
   ]
  },
  {
   "cell_type": "code",
   "execution_count": null,
   "metadata": {
    "#student": false
   },
   "outputs": [],
   "source": [
    "camps.head(5)"
   ]
  },
  {
   "cell_type": "markdown",
   "metadata": {
    "#student": false
   },
   "source": [
    "The `assembly` table from \"Behind Barbed Wire\" contains the locations of each assembly center (city, state, latitude, and longitude), as well as the number of people that were processed through each one."
   ]
  },
  {
   "cell_type": "code",
   "execution_count": null,
   "metadata": {
    "#student": false
   },
   "outputs": [],
   "source": [
    "assembly = pd.read_csv('data/BehindBarbedWire_StoryMap_AssemblyCentersMap_Data.csv')\n",
    "assembly = assembly.dropna(subset=['Latitude', 'Longitude']).dropna(axis = 1)\n",
    "assembly['Number of People'] = assembly['Number of People'].astype(float)\n",
    "assembly"
   ]
  },
  {
   "cell_type": "markdown",
   "metadata": {
    "#student": false,
    "cell_id": "00011-65cb812e-55e0-45dd-bc32-f233d86cd6bd"
   },
   "source": [
    "The `population1940_1945` table contains a list of counties that Japanese Americans lived in in 1940 and 1945, collected by the WRA. An additional column calculates the percent that returned to the county that they were from."
   ]
  },
  {
   "cell_type": "code",
   "execution_count": null,
   "metadata": {
    "#student": false,
    "cell_id": "00012-9415e581-9a09-42aa-a235-f60f64149171"
   },
   "outputs": [],
   "source": [
    "population1940_1945 = pd.read_csv(\"data/JapaneseAmericanPopulation_1940_1945_LL.csv\")\n",
    "population1940_1945.head(10)"
   ]
  },
  {
   "cell_type": "markdown",
   "metadata": {
    "#student": false
   },
   "source": [
    "----\n",
    "## Section 3: Exploratory Data Analysis<a id='eda'></a>\n",
    "\n",
    "Now that we have our data in a format we can work with, we can try to find interesting properties and make visualizations to ultimately understand our data and the stories behind it. Keep in mind the *granularity* of our datasets, i.e. the level of detail the data describes (how fine or coarse-grained is it?). The data we're working with is at the \"camp\" level, so we aren't looking further into individual Japanese-Americans within these internment camps.\n",
    "\n",
    "Data scientists must always think about the limitations of telling stories through data, especially stories as nuanced and heavy as those of Japanese-American internment. The data doesn't include perspectives of the people who were subjected to these camps. We cannot, for example, look into the number of people who were employed by or studying within the UC system at the Tule Lake camp. This dataset also does not include information on the living conditions at each camp.\n",
    "<br>\n",
    "<center>\n",
    "\n",
    "<img src=\"images/tule_lake_1.jpg\" width=\"450\">\n",
    "<img src=\"images/janm-exhibit-dont-fence-me-in-basketball-game.jpg\" width=\"225\">\n",
    "<img src=\"images/tule_lake_2.jpg\" width=\"343\">\n",
    "    \n",
    "</center>\n",
    "\n",
    "<center>\n",
    "    <i>LEFT: Barrack garden at Tule Lake Camp. Photographed by John D. Cook, 1942. CENTER: Pickup basketball game at Manzanar, from the Japanese American National Museum.  RIGHT: Photo of nursery school children in a classroom, identified as singing \"Twinkle, Twinkle Little Star,\" at the Tule Lake Relocation Center in California during World War II. Photographed by Francis Stuart, 1942. </i>\n",
    "</center>\n",
    "<br>"
   ]
  },
  {
   "cell_type": "markdown",
   "metadata": {},
   "source": [
    "One such UC Berkeley community member, Associate Professor in the Art Department Chiura Obata, was interned in 1942 at the Tanforan Assembly Center in San Francisco, before being moved to Topaz War Relocation Center in Utah. At both camps, Obata and other artists started art schools offering frequent and comprehensive classes in nearly 50 art subjects to roughly 1,500 interned students. While Obata and his family were interned, their possessions were stored in the attic of the University House—a favor from then UC President Robert Sproul. Obata was one of many artists who captured their experiences under internment. You can read more about Obata and these artists, [here](https://www.jstor.org/stable/26350652?seq=2)."
   ]
  },
  {
   "cell_type": "markdown",
   "metadata": {},
   "source": [
    "<center>\n",
    "    <img src=\"images/2_ChiuraObata_UntitledUC-Berkeley-Students.jpg\" width=\"400\">\n",
    "    <img src=\"images/8_ChiuraObata_DustStormTopaz.jpg\" width=\"413\">\n",
    "</center>\n",
    "\n",
    "<center>\n",
    "    <i>LEFT: Untitled (UC Berkeley Students), ca. 1930s, Chiura Obata. RIGHT: Dust Storm, Topaz, March 13, 1943, Chiura Obata.</i>\n",
    "    \n",
    "</center>"
   ]
  },
  {
   "cell_type": "markdown",
   "metadata": {
    "editable": true,
    "slideshow": {
     "slide_type": ""
    },
    "tags": []
   },
   "source": [
    "<!-- BEGIN QUESTION -->\n",
    "\n",
    "<div class=\"alert alert-block alert-danger\">\n",
    "<b>Section 3, Question 1:</b> What kinds of events, trends, or patterns might we be able to observe from data at this particular granularity? What can we <i>not</i> observe? What do we owe to the people captured in the data we work with as responsible, justice-oriented data scientists?\n",
    "</div>\n",
    "\n",
    "<!--\n",
    "BEGIN QUESTION\n",
    "name: q3a\n",
    "points: 1\n",
    "manual: true\n",
    "-->"
   ]
  },
  {
   "cell_type": "markdown",
   "metadata": {},
   "source": [
    "**Answer:** *Double click to edit this markdown cell with your answer*"
   ]
  },
  {
   "cell_type": "markdown",
   "metadata": {},
   "source": [
    "<!-- END QUESTION -->\n",
    "\n",
    "Sometimes the numbers don't add up. We have two separate tables with data about the internment camps; one by the WRA and one with data reported in the newspapers from each camp. Let's try to compare the maximum population of the Manzanar camps from both tables."
   ]
  },
  {
   "cell_type": "code",
   "execution_count": null,
   "metadata": {
    "#student": false,
    "editable": true,
    "slideshow": {
     "slide_type": ""
    },
    "tags": []
   },
   "outputs": [],
   "source": [
    "# Just run this cell\n",
    "print('Maximum Population at Manzanar...')\n",
    "print()\n",
    "pop_by_month_max = pop_by_month['Manzanar'].max()\n",
    "print('as reported by the Population by Month Data (WRA):' ,  pop_by_month_max)\n",
    "\n",
    "camps_max = int(camps[camps['Internment Camp Name'] == 'Manzanar Relocation Center'][\"Maximum Population\"].iloc[0])\n",
    "print('as reported by the Camps Data (BBW):',  camps_max)"
   ]
  },
  {
   "cell_type": "markdown",
   "metadata": {
    "#student": false
   },
   "source": [
    "We see that the two numbers don't match up. The `pop_by_month` table says that the maximum population of Manzanar was 10,256, while the camps table says that the maximum was 10,046 people. While this isn't a huge difference, it's important to remember that there can be inconsistency of values among your datasets, and not to take any one dataset as complete and accurate. \n",
    "\n"
   ]
  },
  {
   "cell_type": "markdown",
   "metadata": {},
   "source": [
    "<!-- BEGIN QUESTION -->\n",
    "<div class=\"alert alert-block alert-danger\">\n",
    "<b>Section 3, Question 2:</b>What factors might contribute to this inconsistency?\n",
    "</div>\n",
    "\n",
    "<!--\n",
    "BEGIN QUESTION\n",
    "name: q3b\n",
    "points: 1\n",
    "manual: true\n",
    "-->"
   ]
  },
  {
   "cell_type": "markdown",
   "metadata": {},
   "source": [
    "**Answer:** *Double click to edit this markdown cell with your answer*"
   ]
  },
  {
   "cell_type": "markdown",
   "metadata": {},
   "source": [
    "<!-- END QUESTION -->\n",
    "\n",
    "Below, we create **barplots** to  compare the populations at each camp given by the two different data sets `pop_by_month` and `camps`. Selecting a camp in the dropdown menu will update the barplot and display the maximum populations reported from each dataset."
   ]
  },
  {
   "cell_type": "code",
   "execution_count": null,
   "metadata": {
    "tags": []
   },
   "outputs": [],
   "source": [
    "# Just run this cell\n",
    "\n",
    "# Creating a dictionary (a set of key-value pairs) to provide more descriptive names of camps\n",
    "location_dict = {'Topaz Relocation Center':'Topaz/Central Utah', \n",
    "                 'Poston Relocation Center':'Poston/Colorado River',\n",
    "                 'Gila River Relocation Center':'Gila River', \n",
    "                 'Granada Relocation Center': 'Granada', \n",
    "                 'Heart Mountain Relocation Center':'Heart Mountain', \n",
    "                 'Jerome Relocation Center':'Jerome', \n",
    "                 'Manzanar Relocation Center':'Manzanar',\n",
    "                 'Minidoka Relocation Center':'Minidoka', \n",
    "                 'Rohwer Relocation Center':'Rohwer', \n",
    "                 'Tule Lake Relocation Center':'Tule Lake'} \n",
    "\n",
    "# Visualizing the difference in reported populations between the data sets using a bar plot\n",
    "def pop_diff(location):\n",
    "    plt.subplots(dpi=100)\n",
    "    sns.set(font_scale=.8)\n",
    "    pbm_max = pop_by_month[location_dict[location]].max()\n",
    "    camps_max = camps[camps['Internment Camp Name'] == location]['Maximum Population'].iloc[0]\n",
    "    bar = sns.barplot(x =['camps df', 'pop_by_month df'], y=[camps_max, pbm_max]);\n",
    "    \n",
    "Location = interact(pop_diff, location=camps['Internment Camp Name'].values);"
   ]
  },
  {
   "cell_type": "markdown",
   "metadata": {},
   "source": [
    "<!-- BEGIN QUESTION -->\n",
    "\n",
    "<div class=\"alert alert-block alert-danger\">\n",
    "<b>Section 3, Question 3:</b> Consider the visualization above, using the dropdown menu to visualize different camps. Identify a flaw (if any) and give a recommendation on how to improve it. Is there another type of visualization you can think of that can portray the differences in population?\n",
    "</div>\n",
    "\n",
    "<!--\n",
    "BEGIN QUESTION\n",
    "name: q3c\n",
    "points: 1\n",
    "manual: true\n",
    "-->"
   ]
  },
  {
   "cell_type": "markdown",
   "metadata": {},
   "source": [
    "**Answer:** *Double click to edit this markdown cell with your answer*"
   ]
  },
  {
   "cell_type": "markdown",
   "metadata": {},
   "source": [
    "<!-- END QUESTION -->\n",
    "\n",
    "Next, we'll visualize the monthly population change of each camp using an **overlaid line plot**. Using an overlaid line plot can make it easier to identify any relationships that may exist in the data, and more generally if any events coincide with the population of each camp reported by the WRA."
   ]
  },
  {
   "cell_type": "code",
   "execution_count": null,
   "metadata": {
    "#student": false,
    "editable": true,
    "slideshow": {
     "slide_type": ""
    },
    "tags": []
   },
   "outputs": [],
   "source": [
    "# Just run this cell\n",
    "pop_by_month2 = pop_by_month.drop(\"Total\", axis = 1)\n",
    "melted = pd.melt(pop_by_month2, id_vars = [\"Date\"], value_vars = pop_by_month2.columns[1:], var_name = 'Camp', value_name = \"Population\")\n",
    "fig = px.line(melted, x = 'Date', y = 'Population', color = 'Camp', title = 'Camp Populations by Month')\n",
    "fig.update_layout(autosize=False, width=900, height=500)\n",
    "fig.show();"
   ]
  },
  {
   "cell_type": "markdown",
   "metadata": {
    "#student": false
   },
   "source": [
    "<!-- BEGIN QUESTION -->\n",
    "\n",
    "<div class=\"alert alert-block alert-danger\">\n",
    "<b>Section 3, Question 4:</b>  What is happening to the camp populations in the line plot above? Do any camps stand out to you? What do you notice about the increases in population?\n",
    "</div>\n",
    "\n",
    "<!--\n",
    "BEGIN QUESTION\n",
    "name: q3d\n",
    "points: 1\n",
    "manual: true\n",
    "-->"
   ]
  },
  {
   "cell_type": "markdown",
   "metadata": {},
   "source": [
    "**Answer:** *Double click to edit this markdown cell with your answer*"
   ]
  },
  {
   "cell_type": "markdown",
   "metadata": {},
   "source": [
    "<!-- END QUESTION -->\n",
    "\n",
    "The camp with the dramatic increase in population after 1943 is Tule Lake, the largest concentration camp. On July 15, 1943, Tule Lake was designated as the segregation center because of its capacity and the number of individuals who were deemed \"disloyal\" by the WRA (the loyalty of detainees was conflated with their dissatisfaction with their treatment). Martial law was declared on November 14 at Tule Lake and it became a maximum-security, militarized center, with a curfew in place and almost all daily activities were brought to an end. \n",
    "\n",
    "<br>\n",
    "<center>\n",
    "    <img src=\"images/tule_lake_overview.jpg\" width=\"\">\n",
    "    <i>Tule Lake Concentration Camp, circa 1945. Photographed by R.H. Ross. Courtesy of Tule Lake Committee. </i>\n",
    "</center>\n",
    "<br>\n",
    "\n",
    "As the segregation center, Tule Lake transferred \"loyal\" inmates to other WRA camps in exchange for \"disloyal\" inmates from other camps, though not all \"loyals\" wanted to leave. Overcrowding was a serious issue at Tule Lake: additional barracks were constructed for the 1,800 incoming inmates from Manzanar in early spring 1944, and even more arrived from other camps later that spring. Midway through 1944, the WRA stopped transferring incarcerated Japanese-Americans to Tule Lake. *Can you see these changes reflected in the plot above?*\n",
    "\n",
    "Now we'll shift our focus from internment camp populations to the percentages of incarcerated Japanese-Americans that returned to their original county after internment. We can use a histogram to visualize the distribution of the percentages reported."
   ]
  },
  {
   "cell_type": "code",
   "execution_count": null,
   "metadata": {},
   "outputs": [],
   "source": [
    "sns.histplot(data=population1940_1945, x=\"% returned\", bins=10, label=\"Percent returned\")\n",
    "plt.legend()\n",
    "plt.title(\"Percentage of incarcerated Japanese-Americans that returned to their original county after release\")\n",
    "plt.show();"
   ]
  },
  {
   "cell_type": "markdown",
   "metadata": {},
   "source": [
    "We can see that the bin that indicates 0% return to original location holds the most weight. This tells us that a vast majority of the individuals that were held in internment camps did not return to the location where they originally lived."
   ]
  },
  {
   "cell_type": "markdown",
   "metadata": {
    "#student": true
   },
   "source": [
    "<!-- BEGIN QUESTION -->\n",
    "\n",
    "<div class=\"alert alert-block alert-danger\">\n",
    "<b>Section 3, Question 5:</b>  Visualizations allow us to picture how the numbers change and find abnormalities in the data set. What are some abnormalities that you see in the first plot? What are some possible explanations for these abnormalities?\n",
    "</div> \n",
    "\n",
    "<!--\n",
    "BEGIN QUESTION\n",
    "name: q3e\n",
    "points: 1\n",
    "manual: true\n",
    "-->"
   ]
  },
  {
   "cell_type": "markdown",
   "metadata": {
    "#student": true
   },
   "source": [
    "**Answer:** *Double click to edit this markdown cell with your answer*"
   ]
  },
  {
   "cell_type": "markdown",
   "metadata": {
    "#student": false
   },
   "source": [
    "<!-- END QUESTION -->\n",
    "\n",
    "---\n",
    "\n",
    "## Section 4: Assembly Centers and Internment Camps<a id='#section4'></a>\n",
    "\n",
    "In this section we will look at trends in the relocation of incarcerated Japanese-Americans between assembly centers and internment camps. The maps below show how far people were forced to move from one location to another over the course of WWII. By creating a map from longitude and latitude data, we can better visualize locations and understand some aspects of Japanese-American incarceration, such as on whose land Japanese-Americans were held in, the conditions that they suffered, the places that Japanese-Americans across the West Coast came from, and where they went afterwards.\n",
    "\n",
    "\n",
    "### Forced Relocation\n",
    "When a notice of \"evacuation\" was posted, families had to register at a control center and were issued a number—stripping families of their privacy and dignity. From there, families awaited their trip to the assembly centers. Upon arrival, detainees recall the vivid images:\n",
    "\n",
    "\n",
    "<div class=block_quote>\"walking to the camp between a cordon of armed guards, and first seeing the barbed wire and searchlights, the menacing symbols of a prison\" (<i>Personal Justice Denied</i>, 136)</div>\n",
    "\n",
    "<br> <center> <img src=\"images/Luggage_Japanese_American_internment.png\" width=\"600\"> </center>\n",
    "\n",
    "<center> <i>The luggage of the Japanese-Americans who have arrived at an assembly center. Courtesy of the United States Library of Congress's Prints and Photographs division.</i></center><br>"
   ]
  },
  {
   "cell_type": "markdown",
   "metadata": {
    "#student": false
   },
   "source": [
    "### Assembly Centers\n",
    "Japanese Americans were uprooted from their homes and transported first to assembly centers, and then to internment camps all across the country. Assembly centers served as temporary detention centers for the detained to stop at before being transported to longer term internment camps. The map below displays the location of the assembly centers created after the passing of the Executive Order 9066.\n",
    "\n",
    "To zoom in and out on the map, press the + and - buttons or scroll up and down. Click on a blue marker to see the name of the assembly center."
   ]
  },
  {
   "cell_type": "code",
   "execution_count": null,
   "metadata": {
    "#student": false,
    "scrolled": true
   },
   "outputs": [],
   "source": [
    "# Just run this cell\n",
    "m = folium.Map(location=[36.733300, -100.766700], zoom_start=4)\n",
    "tooltip = 'Click me!'\n",
    "for i in range(0,len(assembly)):\n",
    "    folium.Marker(\n",
    "      location=(assembly.iloc[i]['Latitude'], assembly.iloc[i]['Longitude']),\n",
    "      popup=assembly.iloc[i]['Location'],\n",
    "      ).add_to(m)\n",
    "m"
   ]
  },
  {
   "cell_type": "markdown",
   "metadata": {},
   "source": [
    "### Internment Camps\n",
    "\n",
    "The map below shows the location of internment centers across the country. Notice that the internment camps are located further inland than assembly centers. This is because a majority of the Japanese-Americans that were held in internment camps were originally from the West Coast. After the order passed, these Japanese-Americans were relocated to nearby assembly centers as authorities prepared to relocate them to more distant internment camps."
   ]
  },
  {
   "cell_type": "code",
   "execution_count": null,
   "metadata": {
    "#student": false,
    "editable": true,
    "scrolled": true,
    "slideshow": {
     "slide_type": ""
    },
    "tags": []
   },
   "outputs": [],
   "source": [
    "# Just run this cell\n",
    "m = folium.Map(location=[36.733300, -100.766700], zoom_start=4)\n",
    "tooltip = 'Click me!'\n",
    "for i in range(0,len(camps)):\n",
    "    folium.Marker(\n",
    "      location=(camps.iloc[i]['Latitude'], camps.iloc[i]['Longitude']),\n",
    "      popup=camps.iloc[i]['Internment Camp Name'],\n",
    "      ).add_to(m)\n",
    "m"
   ]
  },
  {
   "cell_type": "markdown",
   "metadata": {},
   "source": [
    "### Visualizing Movement\n",
    "\n",
    "The maps we made above give us a glimpse at some of the disorienting relocations incarcerated Japanese-Americans were subject to that made achieving a sense of normalcy during and after their imprisonment a challenge. Before answering the next question, take a minute to look at how similar stories of relocation are told through Densho's [\"Sites of Shame\" interactive map](https://maps.densho.org/sitesofshame/?facilityCategories=WRA%7CEAIS%7CHawaii&farDestVisible=true&farPreVisible=true&farSelectedCamp=&lat=38.0000&layers=exclusion%20orders%7Csos-facilities&lng=-93.0000&selectedFamily=&zoom=4). Pay particular attention to the \"Journeys\" box in the upper right corner. Click the checkboxes and use the drop-down menus to highlight the forced separation and relocation of families, and the spread of post-internment relocation by former detainees across the country."
   ]
  },
  {
   "cell_type": "markdown",
   "metadata": {},
   "source": [
    "<div class=\"alert alert-block alert-danger\">\n",
    "<b>Section 4, Question 1:</b> Densho tells the story of assembly centers through movement, tracking the populations of entire camps down to individual families as they were forced from their homes and into a dizzying series of relocations. Paying attention to the way that Densho organizes their interactive map, how else could the story of these relocations be told through data and visualization? Just as there is no single way to visualize data, there is no single right answer. Think creatively about the choices we make when visualizing movement, and the implications those choices have on the stories our data can tell.\n",
    "</div> "
   ]
  },
  {
   "cell_type": "markdown",
   "metadata": {},
   "source": [
    "**Answer:** *Double click to edit this markdown cell with your answer* "
   ]
  },
  {
   "cell_type": "markdown",
   "metadata": {
    "#student": false
   },
   "source": [
    "---\n",
    "\n",
    "## Section 5: Mapping and Movement<a id='section5'></a>\n",
    "\n",
    "The abrupt forced relocation of Japanese-Americans during World War II resulted in a lasting change in the location of many of these Japanese-American families even after the war ended. During the relocation process many families were forced to quickly sell their possessions, businesses and land holdings. Those who did not, often came back to find their possessions gone and homes vandalized. As a result, many who were incarcerated that lived on the West Coast of the United States did not return to their previous homes after the war, and those who did often faced racist hostility and violence.\n",
    "\n",
    "<br>\n",
    "<center>\n",
    "    <img src=\"images/kent_residents.png\" width=\"310\">\n",
    "    <img src=\"images/Hayward_Friends_say_goodbye.png\" width=\"400\">\n",
    "    <img src=\"images/vashon_man.png\" width=\"312\">\n",
    "</center>\n",
    "<center>\n",
    "    <i>LEFT: The Seattle Daily Times, November 9, 1943, pp. 1, 4. Courtesy of Densho Digital Repository. CENTER: Neighbors in Hayward, California saying goodbye. Courtesy of the United States Library of Congress's Prints and Photographs division. RIGHT: The Seattle Daily Times, May 23, 1945, p. 1. Courtesy of Densho Digital Repository.</i>\n",
    "</center>\n",
    "\n",
    "    "
   ]
  },
  {
   "cell_type": "markdown",
   "metadata": {},
   "source": [
    "### Location of Prisoners Before Relocation\n",
    "\n",
    "The map below shows the population of each county at the start of World War II in 1940, just before the Executive Order 9066 in 1942. Japanese Americans were largely concentrated on the West Coast, with the largest population in Los Angeles.\n"
   ]
  },
  {
   "cell_type": "code",
   "execution_count": null,
   "metadata": {
    "#student": false
   },
   "outputs": [],
   "source": [
    "# Just run this cell\n",
    "m = folium.Map(location=[36.733300, -100.766700], zoom_start=4)\n",
    "tooltip = 'Click me!'\n",
    "for i in range(0,len(population1940_1945)):\n",
    "    folium.Circle(\n",
    "      location = (population1940_1945.iloc[i]['Latitude'], population1940_1945.iloc[i]['Longitude']),\n",
    "      popup = population1940_1945.iloc[i]['County'],\n",
    "      radius = float(population1940_1945.iloc[i]['1940']) *12,\n",
    "      color = 'blue',\n",
    "      fill = True,\n",
    "      fill_color = 'crimson').add_to(m)\n",
    "m"
   ]
  },
  {
   "cell_type": "code",
   "execution_count": null,
   "metadata": {},
   "outputs": [],
   "source": [
    "# Just run this cell\n",
    "m = folium.Map(location=[36.733300, -100.766700], zoom_start=4)\n",
    "tooltip = 'Click me!'\n",
    "\n",
    "def color(pop): \n",
    "    if pop in range(0,1000): \n",
    "        col = 'green'\n",
    "    elif pop in range(1001,4999): \n",
    "        col = 'blue'\n",
    "    elif pop in range(5000,10000): \n",
    "        col = 'orange'\n",
    "    else: \n",
    "        col='red'\n",
    "    return col \n",
    "\n",
    "population1940_1945['marker_color'] = [color(pop) for pop in population1940_1945['1940'].tolist()]\n",
    "\n",
    "for i in range(0,len(population1940_1945)):\n",
    "    folium.CircleMarker(\n",
    "        location = (population1940_1945.iloc[i]['Latitude'], population1940_1945.iloc[i]['Longitude']),\n",
    "        radius = 1,\n",
    "        popup = population1940_1945.iloc[i]['County'],\n",
    "        color = population1940_1945.iloc[i]['marker_color'],\n",
    "    ).add_to(m)\n",
    "m\n",
    "\n"
   ]
  },
  {
   "cell_type": "markdown",
   "metadata": {},
   "source": [
    "<!-- BEGIN QUESTION -->\n",
    "\n",
    "<div class=\"alert alert-block alert-danger\">\n",
    "<b>Section 5, Question 1:</b> The two visualizations above map the same data, but do so in two different ways. What are the differences between the two maps? What does each visualization draw attention to and what does it obscure?\n",
    "</div>\n",
    "  \n",
    "<!--\n",
    "BEGIN QUESTION\n",
    "name: q5a\n",
    "points: 1\n",
    "manual: true\n",
    "-->"
   ]
  },
  {
   "cell_type": "markdown",
   "metadata": {},
   "source": [
    "**Answer:** *Double click to edit this markdown cell with your answer* "
   ]
  },
  {
   "cell_type": "markdown",
   "metadata": {
    "#student": false
   },
   "source": [
    "<!-- END QUESTION -->\n",
    "\n",
    "### Location of Detainees After the War\n",
    "\n",
    "This table shows the number of Japanese Americans in each county after the war. This data was self-reported by evacuees."
   ]
  },
  {
   "cell_type": "code",
   "execution_count": null,
   "metadata": {
    "#student": false,
    "tags": []
   },
   "outputs": [],
   "source": [
    "reloc_cities = pd.read_csv('data/RelocationDestinations_Cities_LL.csv')\n",
    "reloc_cities['People'] = reloc_cities['People'].astype(float)\n",
    "reloc_cities.head(5)"
   ]
  },
  {
   "cell_type": "markdown",
   "metadata": {
    "#student": false
   },
   "source": [
    "We map this data below to visualize the extent people had to relocate from their original homes. We can see that a large population moved to the midwest (Chicago area) as well as the East Coast, Canada, and Mexico City.\n"
   ]
  },
  {
   "cell_type": "code",
   "execution_count": null,
   "metadata": {
    "#student": false
   },
   "outputs": [],
   "source": [
    "# Just run this cell\n",
    "m = folium.Map(location=[36.733300, -100.766700], zoom_start=4)\n",
    "tooltip = 'Click me!'\n",
    "for i in range(0,len(reloc_cities)):\n",
    "    folium.Circle(\n",
    "      location=(reloc_cities.iloc[i]['Latitude'], reloc_cities.iloc[i]['Longitude']),\n",
    "      popup=reloc_cities.iloc[i]['City'],\n",
    "      radius=reloc_cities.iloc[i]['People'] * 12,\n",
    "      color='blue',\n",
    "      fill=True,\n",
    "      fill_color='red').add_to(m)\n",
    "m"
   ]
  },
  {
   "cell_type": "markdown",
   "metadata": {},
   "source": [
    "<!-- BEGIN QUESTION -->\n",
    "\n",
    "<div class=\"alert alert-block alert-danger\">\n",
    "<b>Section 5, Question 2:</b> As was mentioned above, this data is self reported by detainees. What effect does the fact that the data is self-reported have on the data collected and the conclusions made?\n",
    "</div>\n",
    "  \n",
    "<!--\n",
    "BEGIN QUESTION\n",
    "name: q5b\n",
    "points: 1\n",
    "manual: true\n",
    "-->"
   ]
  },
  {
   "cell_type": "markdown",
   "metadata": {},
   "source": [
    "**Answer:** *Double click to edit this markdown cell with your answer*"
   ]
  },
  {
   "cell_type": "markdown",
   "metadata": {
    "editable": true,
    "slideshow": {
     "slide_type": ""
    },
    "tags": []
   },
   "source": [
    "<!-- END QUESTION -->\n",
    "\n",
    "<!-- BEGIN QUESTION -->\n",
    "<div class=\"alert alert-block alert-danger\">\n",
    "<b>Section 5, Question 3:</b> Given our work with the data and the context surrounding it, what does it mean to be doing data analysis on these two datasets together? How is the context transformed through the act of your analysis?\n",
    "</div>\n",
    "\n",
    "<!--\n",
    "BEGIN QUESTION\n",
    "name: q5c\n",
    "points: 1\n",
    "manual: true\n",
    "-->"
   ]
  },
  {
   "cell_type": "markdown",
   "metadata": {},
   "source": [
    "**Answer:** *Double click to edit this markdown cell with your answer*"
   ]
  },
  {
   "cell_type": "markdown",
   "metadata": {},
   "source": [
    "<!-- END QUESTION -->\n",
    "\n",
    "<!-- BEGIN QUESTION -->\n",
    "\n",
    "<div class=\"alert alert-block alert-info\">\n",
    "<b>Labor Question:</b> How much time did you spend completing this module? Did you find outside resources that helped you? If so what were they?\n",
    "</div>\n",
    "\n",
    "\n",
    "<!--\n",
    "BEGIN QUESTION\n",
    "name: QL\n",
    "points: 1\n",
    "manual: true\n",
    "-->\n"
   ]
  },
  {
   "cell_type": "markdown",
   "metadata": {
    "editable": true,
    "slideshow": {
     "slide_type": ""
    },
    "tags": []
   },
   "source": [
    "**Answer here** *Double click to edit this markdown cell with your answer*"
   ]
  },
  {
   "cell_type": "markdown",
   "metadata": {
    "editable": true,
    "slideshow": {
     "slide_type": ""
    },
    "tags": []
   },
   "source": [
    "<!-- END QUESTION -->\n",
    "\n",
    "#### Feedback Survey\n",
    "Please consider filling out this [survey](https://docs.google.com/forms/d/e/1FAIpQLScd1q8VqvOMuVvLfhbVswckYKg1HFVwVu_bTF5NWbVZr4qWhw/viewform?usp=sf_link) to help us improve this module.\n"
   ]
  },
  {
   "cell_type": "markdown",
   "metadata": {},
   "source": [
    "Save your notebook first, then run this cell to export your submission.\n",
    "\n",
    "Download the zip file, which contains a copy of your notebook and your written responses."
   ]
  },
  {
   "cell_type": "code",
   "execution_count": null,
   "metadata": {
    "editable": true,
    "slideshow": {
     "slide_type": ""
    },
    "tags": []
   },
   "outputs": [],
   "source": [
    "generator.export(\"notebook2.ipynb\")"
   ]
  },
  {
   "cell_type": "markdown",
   "metadata": {
    "#student": false
   },
   "source": [
    "---\n"
   ]
  }
 ],
 "metadata": {
  "anaconda-cloud": {},
  "checksums": [
   "7d62f2d8fa9df9782dabafaf29f6be0b",
   "bf3feb850b5e1bd76ebcd7c07e4125a4",
   "9ccdd9fe0060bd3ab7328387f1a35413",
   "a22cdadfe7c74bd821ea894f242bab88",
   "3d3282284ee18c6a2fd069444fde3217",
   "c5063f438aba580d73b3fc8f015801be",
   "bb574c420b608257b5fc9f647c3eb81c",
   "2846119dbb959fc17c459eafab13dcb5",
   "e01f007aa5443efb9900bd44d13dd7c7",
   "b804469a98fe20f770090a7acc360a31",
   "a46e8d57f8644009ee6351df0927f2bf",
   "c9decc56cff48e3fd4fb28e48a7ba110",
   "1508a0313a4e1c0923287b9327cb6a80",
   "bdab940058951e88de397a485186a5de",
   "62c34e40515edab6c4225ccf15087052",
   "0fd80a084c06e3f7653144df829c2e3d",
   "5344dc57314f63d6ea2455f0c2a27d30",
   "6c521a0f63dbf362aaaf744085cf5b4d",
   "f7cbedf950e5a0393fa8414ec591073c",
   "690c6779b8184c6b3f7b44b28258a1c9",
   "a23b90f9b02415da624c64c700cd983c",
   "1a89c04b14ffca9f33ba99754b16bc05",
   "135645a8e6de40583293478107705afb",
   "4500e0043480e3b5ee091f37fa8c6f2b",
   "989ef4f9e0df1c73b2e59d8a21acdaa9",
   "e682d5808dd16a1e8e787c15da5093c0",
   "7a7210ab4f95ccb7a3ce5d78bb87b92b",
   "6fa6c6038ba08d3c2973c03c4f222cf3",
   "9efc314b65237d5d646e1b817372afc6",
   "6a1eee6a000db38bf48e3c7c8313c2ed",
   "99193259bf8cb447d9c11ef80a2d517a",
   "be412606d0ab971baafe92a2aceddabd",
   "1d93fa85a37e8a9a4ed56e0e42a5e388",
   "13c86accb3f14a7504c1443b3b85b17b",
   "8b8bd628f67be024162e121a028737d5",
   "deda54df303d85c87084d4c7934124f2",
   "343c55190c6e01f3a21869185435318b",
   "b9f9b50487bc24ced9e9be3181b107c8",
   "2c628b07d1bc8678a879f1b182dfea22",
   "40a3a18785bcf172b3f5bffc70e2204a",
   "1be47a1c3314182c8741fb78645afc4c",
   "1a4743083d499b807c0f310cf851dd3f",
   "9d45946f137dcbd9b0bb25635216ec88",
   "af1b20ba747adc76da8d13147e160754",
   "c45b863a08254980e2804d24899d6712",
   "659c5ba16081070bc38a02d0d963063f",
   "646d6bf77641e96b7cd5772a8d1a10ad",
   "6fa6c6038ba08d3c2973c03c4f222cf3",
   "4b7233c8a0f8c12db1a1fcd5a9b445fc",
   "6357eb980f2ec54eaebb96dc7e3e1f7b",
   "23b2e187b60113dbb89807ca8d37030a"
  ],
  "history": [
   {
    "code": "# Run this cell!\nimport otter\nfrom IPython.display import HTML\nimport pandas as pd\nimport numpy as np\nimport matplotlib.pyplot as plt\nimport seaborn as sns\nimport folium\nimport plotly.express as px\nimport ipywidgets as widgets\nfrom ipywidgets import interact, interactive, fixed, interact_manual\n\ngenerator = otter.Notebook()\n\nrelocations_cities = pd.read_csv(\"data/RelocationDestinations_Cities_LL.csv\", error_bad_lines = False)",
    "id": "2240f21c7c724cf285ed63015e91935b",
    "idx": 1,
    "time": "2021-02-11T20:54:28.698Z",
    "type": "execution"
   },
   {
    "id": "2240f21c7c724cf285ed63015e91935b",
    "time": "2021-02-11T20:54:32.811Z",
    "type": "completion"
   },
   {
    "code": "# Run this cell!\nimport otter\nfrom IPython.display import HTML\nimport pandas as pd\nimport numpy as np\nimport matplotlib.pyplot as plt\nimport seaborn as sns\nimport folium\nimport plotly.express as px\nimport ipywidgets as widgets\nfrom ipywidgets import interact, interactive, fixed, interact_manual\n\ngenerator = otter.Notebook()\n\nrelocations_cities = pd.read_csv(\"data/RelocationDestinations_Cities_LL.csv\", error_bad_lines = False)",
    "id": "2240f21c7c724cf285ed63015e91935b",
    "idx": 1,
    "time": "2021-02-11T22:40:06.254Z",
    "type": "execution"
   },
   {
    "id": "2240f21c7c724cf285ed63015e91935b",
    "time": "2021-02-11T22:40:09.671Z",
    "type": "completion"
   },
   {
    "code": "# Save your notebook first, then run this cell to export your submission.\ngrader.export(\"nb2.ipynb\")",
    "id": "fb652f50162a47ceaf8a5c2c8babf8e8",
    "idx": 54,
    "time": "2021-02-16T03:47:22.598Z",
    "type": "execution"
   },
   {
    "id": "fb652f50162a47ceaf8a5c2c8babf8e8",
    "time": "2021-02-16T03:47:22.775Z",
    "type": "completion"
   },
   {
    "code": "# Run this cell!\nimport otter\nfrom IPython.display import HTML\nimport pandas as pd\nimport numpy as np\nimport matplotlib.pyplot as plt\nimport seaborn as sns\nimport folium\nimport plotly.express as px\nimport ipywidgets as widgets\nfrom ipywidgets import interact, interactive, fixed, interact_manual\n\ngenerator = otter.Notebook()\n\nrelocations_cities = pd.read_csv(\"data/RelocationDestinations_Cities_LL.csv\", error_bad_lines = False)",
    "id": "0a2405f5e06641e787b2787525f61c47",
    "idx": 1,
    "time": "2021-02-16T03:47:28.860Z",
    "type": "execution"
   },
   {
    "code": "# Save your notebook first, then run this cell to export your submission.\ngrader.export(\"nb2.ipynb\")",
    "id": "fb652f50162a47ceaf8a5c2c8babf8e8",
    "idx": 54,
    "time": "2021-02-16T03:47:31.473Z",
    "type": "execution"
   },
   {
    "id": "0a2405f5e06641e787b2787525f61c47",
    "time": "2021-02-16T03:47:32.426Z",
    "type": "completion"
   },
   {
    "id": "fb652f50162a47ceaf8a5c2c8babf8e8",
    "time": "2021-02-16T03:47:32.582Z",
    "type": "completion"
   },
   {
    "code": "# Save your notebook first, then run this cell to export your submission.\ngenerator.export(\"nb2.ipynb\")",
    "id": "fb652f50162a47ceaf8a5c2c8babf8e8",
    "idx": 54,
    "time": "2021-02-16T03:47:44.150Z",
    "type": "execution"
   },
   {
    "id": "fb652f50162a47ceaf8a5c2c8babf8e8",
    "time": "2021-02-16T03:47:44.287Z",
    "type": "completion"
   },
   {
    "code": "# Save your notebook first, then run this cell to export your submission.\ngenerator.export(\"notebook2.ipynb\")",
    "id": "fb652f50162a47ceaf8a5c2c8babf8e8",
    "idx": 54,
    "time": "2021-02-16T03:47:51.362Z",
    "type": "execution"
   },
   {
    "id": "fb652f50162a47ceaf8a5c2c8babf8e8",
    "time": "2021-02-16T03:47:59.200Z",
    "type": "completion"
   },
   {
    "code": "# Save your notebook first, then run this cell to export your submission.\ngenerator.export_notebook(\"notebook2.ipynb\")",
    "id": "fb652f50162a47ceaf8a5c2c8babf8e8",
    "idx": 54,
    "time": "2021-02-16T03:49:29.554Z",
    "type": "execution"
   },
   {
    "id": "fb652f50162a47ceaf8a5c2c8babf8e8",
    "time": "2021-02-16T03:49:29.662Z",
    "type": "completion"
   },
   {
    "code": "# Save your notebook first, then run this cell to export your submission.\ngenerator.export(\"notebook2.ipynb\")",
    "id": "fb652f50162a47ceaf8a5c2c8babf8e8",
    "idx": 54,
    "time": "2021-02-16T03:50:21.723Z",
    "type": "execution"
   },
   {
    "id": "fb652f50162a47ceaf8a5c2c8babf8e8",
    "time": "2021-02-16T03:50:31.178Z",
    "type": "completion"
   }
  ],
  "kernelspec": {
   "display_name": "Python 3 (ipykernel)",
   "language": "python",
   "name": "python3"
  },
  "language_info": {
   "codemirror_mode": {
    "name": "ipython",
    "version": 3
   },
   "file_extension": ".py",
   "mimetype": "text/x-python",
   "name": "python",
   "nbconvert_exporter": "python",
   "pygments_lexer": "ipython3",
   "version": "3.11.11"
  },
  "number_of_pagebreaks": 0,
  "vscode": {
   "interpreter": {
    "hash": "aee8b7b246df8f9039afb4144a1f6fd8d2ca17a180786b69acc140d282b71a49"
   }
  },
  "widgets": {
   "application/vnd.jupyter.widget-state+json": {
    "state": {
     "2b7b00908eb44cb5b0014af99da71c88": {
      "model_module": "@jupyter-widgets/controls",
      "model_module_version": "1.5.0",
      "model_name": "DescriptionStyleModel",
      "state": {
       "description_width": ""
      }
     },
     "34c0ac2972704965800d0dd61eece359": {
      "model_module": "@jupyter-widgets/base",
      "model_module_version": "1.2.0",
      "model_name": "LayoutModel",
      "state": {}
     },
     "36f6f4b16a2043beba8e1a7440a45fec": {
      "model_module": "@jupyter-widgets/base",
      "model_module_version": "1.2.0",
      "model_name": "LayoutModel",
      "state": {}
     },
     "3f87b5baa3a845f1a1f50c2f75087432": {
      "model_module": "@jupyter-widgets/controls",
      "model_module_version": "1.5.0",
      "model_name": "VBoxModel",
      "state": {
       "_dom_classes": [
        "widget-interact"
       ],
       "children": [
        "IPY_MODEL_511ea88cef1c425baf034c4e779fc7b7",
        "IPY_MODEL_a65695e0440241329b6f99d994c4c738"
       ],
       "layout": "IPY_MODEL_36f6f4b16a2043beba8e1a7440a45fec"
      }
     },
     "511ea88cef1c425baf034c4e779fc7b7": {
      "model_module": "@jupyter-widgets/controls",
      "model_module_version": "1.5.0",
      "model_name": "DropdownModel",
      "state": {
       "_options_labels": [
        "Gila River Relocation Center",
        "Poston Relocation Center",
        "Jerome Relocation Center",
        "Rohwer Relocation Center",
        "Manzanar Relocation Center",
        "Tule Lake Relocation Center",
        "Granada Relocation Center",
        "Minidoka Relocation Center",
        "Topaz Relocation Center",
        "Heart Mountain Relocation Center"
       ],
       "description": "location",
       "index": 4,
       "layout": "IPY_MODEL_b0f39bde2e9747f2bf5af4443e7b6249",
       "style": "IPY_MODEL_2b7b00908eb44cb5b0014af99da71c88"
      }
     },
     "58ea973162c84a558968a4966bd89886": {
      "model_module": "@jupyter-widgets/controls",
      "model_module_version": "1.5.0",
      "model_name": "VBoxModel",
      "state": {
       "_dom_classes": [
        "widget-interact"
       ],
       "children": [
        "IPY_MODEL_d45cc91e6a344ce5854d1b9c7810bccf",
        "IPY_MODEL_8243b694f8ff43e48bf54b9fa9b133e0"
       ],
       "layout": "IPY_MODEL_9c91d91ed4ce471cb90bf86380ce51f2"
      }
     },
     "5c40898272b7411a9d4cbd64aea9d6de": {
      "model_module": "@jupyter-widgets/controls",
      "model_module_version": "1.5.0",
      "model_name": "DescriptionStyleModel",
      "state": {
       "description_width": ""
      }
     },
     "8243b694f8ff43e48bf54b9fa9b133e0": {
      "model_module": "@jupyter-widgets/output",
      "model_module_version": "1.0.0",
      "model_name": "OutputModel",
      "state": {
       "layout": "IPY_MODEL_987c4a6f95f842468e8ac100a7370ee8",
       "outputs": [
        {
         "data": {
          "image/png": "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\n",
          "text/plain": "<Figure size 1500x1000 with 1 Axes>"
         },
         "metadata": {},
         "output_type": "display_data"
        }
       ]
      }
     },
     "987c4a6f95f842468e8ac100a7370ee8": {
      "model_module": "@jupyter-widgets/base",
      "model_module_version": "1.2.0",
      "model_name": "LayoutModel",
      "state": {}
     },
     "9c91d91ed4ce471cb90bf86380ce51f2": {
      "model_module": "@jupyter-widgets/base",
      "model_module_version": "1.2.0",
      "model_name": "LayoutModel",
      "state": {}
     },
     "a65695e0440241329b6f99d994c4c738": {
      "model_module": "@jupyter-widgets/output",
      "model_module_version": "1.0.0",
      "model_name": "OutputModel",
      "state": {
       "layout": "IPY_MODEL_34c0ac2972704965800d0dd61eece359",
       "outputs": [
        {
         "ename": "KeyError",
         "evalue": "0",
         "output_type": "error",
         "traceback": [
          "\u001b[0;31m---------------------------------------------------------------------------\u001b[0m",
          "\u001b[0;31mKeyError\u001b[0m                                  Traceback (most recent call last)",
          "\u001b[0;32m/Library/Frameworks/Python.framework/Versions/3.10/lib/python3.10/site-packages/pandas/core/indexes/base.py\u001b[0m in \u001b[0;36mget_loc\u001b[0;34m(self, key, method, tolerance)\u001b[0m\n\u001b[1;32m   3360\u001b[0m             \u001b[0;32mtry\u001b[0m\u001b[0;34m:\u001b[0m\u001b[0;34m\u001b[0m\u001b[0;34m\u001b[0m\u001b[0m\n\u001b[0;32m-> 3361\u001b[0;31m                 \u001b[0;32mreturn\u001b[0m \u001b[0mself\u001b[0m\u001b[0;34m.\u001b[0m\u001b[0m_engine\u001b[0m\u001b[0;34m.\u001b[0m\u001b[0mget_loc\u001b[0m\u001b[0;34m(\u001b[0m\u001b[0mcasted_key\u001b[0m\u001b[0;34m)\u001b[0m\u001b[0;34m\u001b[0m\u001b[0;34m\u001b[0m\u001b[0m\n\u001b[0m\u001b[1;32m   3362\u001b[0m             \u001b[0;32mexcept\u001b[0m \u001b[0mKeyError\u001b[0m \u001b[0;32mas\u001b[0m \u001b[0merr\u001b[0m\u001b[0;34m:\u001b[0m\u001b[0;34m\u001b[0m\u001b[0;34m\u001b[0m\u001b[0m\n",
          "\u001b[0;32m/Library/Frameworks/Python.framework/Versions/3.10/lib/python3.10/site-packages/pandas/_libs/index.pyx\u001b[0m in \u001b[0;36mpandas._libs.index.IndexEngine.get_loc\u001b[0;34m()\u001b[0m\n",
          "\u001b[0;32m/Library/Frameworks/Python.framework/Versions/3.10/lib/python3.10/site-packages/pandas/_libs/index.pyx\u001b[0m in \u001b[0;36mpandas._libs.index.IndexEngine.get_loc\u001b[0;34m()\u001b[0m\n",
          "\u001b[0;32mpandas/_libs/hashtable_class_helper.pxi\u001b[0m in \u001b[0;36mpandas._libs.hashtable.Int64HashTable.get_item\u001b[0;34m()\u001b[0m\n",
          "\u001b[0;32mpandas/_libs/hashtable_class_helper.pxi\u001b[0m in \u001b[0;36mpandas._libs.hashtable.Int64HashTable.get_item\u001b[0;34m()\u001b[0m\n",
          "\u001b[0;31mKeyError\u001b[0m: 0",
          "\nThe above exception was the direct cause of the following exception:\n",
          "\u001b[0;31mKeyError\u001b[0m                                  Traceback (most recent call last)",
          "\u001b[0;32m/Library/Frameworks/Python.framework/Versions/3.10/lib/python3.10/site-packages/ipywidgets/widgets/interaction.py\u001b[0m in \u001b[0;36mupdate\u001b[0;34m(self, *args)\u001b[0m\n\u001b[1;32m    255\u001b[0m                     \u001b[0mvalue\u001b[0m \u001b[0;34m=\u001b[0m \u001b[0mwidget\u001b[0m\u001b[0;34m.\u001b[0m\u001b[0mget_interact_value\u001b[0m\u001b[0;34m(\u001b[0m\u001b[0;34m)\u001b[0m\u001b[0;34m\u001b[0m\u001b[0;34m\u001b[0m\u001b[0m\n\u001b[1;32m    256\u001b[0m                     \u001b[0mself\u001b[0m\u001b[0;34m.\u001b[0m\u001b[0mkwargs\u001b[0m\u001b[0;34m[\u001b[0m\u001b[0mwidget\u001b[0m\u001b[0;34m.\u001b[0m\u001b[0m_kwarg\u001b[0m\u001b[0;34m]\u001b[0m \u001b[0;34m=\u001b[0m \u001b[0mvalue\u001b[0m\u001b[0;34m\u001b[0m\u001b[0;34m\u001b[0m\u001b[0m\n\u001b[0;32m--> 257\u001b[0;31m                 \u001b[0mself\u001b[0m\u001b[0;34m.\u001b[0m\u001b[0mresult\u001b[0m \u001b[0;34m=\u001b[0m \u001b[0mself\u001b[0m\u001b[0;34m.\u001b[0m\u001b[0mf\u001b[0m\u001b[0;34m(\u001b[0m\u001b[0;34m**\u001b[0m\u001b[0mself\u001b[0m\u001b[0;34m.\u001b[0m\u001b[0mkwargs\u001b[0m\u001b[0;34m)\u001b[0m\u001b[0;34m\u001b[0m\u001b[0;34m\u001b[0m\u001b[0m\n\u001b[0m\u001b[1;32m    258\u001b[0m                 \u001b[0mshow_inline_matplotlib_plots\u001b[0m\u001b[0;34m(\u001b[0m\u001b[0;34m)\u001b[0m\u001b[0;34m\u001b[0m\u001b[0;34m\u001b[0m\u001b[0m\n\u001b[1;32m    259\u001b[0m                 \u001b[0;32mif\u001b[0m \u001b[0mself\u001b[0m\u001b[0;34m.\u001b[0m\u001b[0mauto_display\u001b[0m \u001b[0;32mand\u001b[0m \u001b[0mself\u001b[0m\u001b[0;34m.\u001b[0m\u001b[0mresult\u001b[0m \u001b[0;32mis\u001b[0m \u001b[0;32mnot\u001b[0m \u001b[0;32mNone\u001b[0m\u001b[0;34m:\u001b[0m\u001b[0;34m\u001b[0m\u001b[0;34m\u001b[0m\u001b[0m\n",
          "\u001b[0;32m/var/folders/3k/k6qjt0ds37g89ylq_8dq2wwh0000gn/T/ipykernel_10249/3606954792.py\u001b[0m in \u001b[0;36mpop_diff\u001b[0;34m(location)\u001b[0m\n\u001b[1;32m     13\u001b[0m     \u001b[0msns\u001b[0m\u001b[0;34m.\u001b[0m\u001b[0mset\u001b[0m\u001b[0;34m(\u001b[0m\u001b[0mfont_scale\u001b[0m\u001b[0;34m=\u001b[0m\u001b[0;36m.8\u001b[0m\u001b[0;34m)\u001b[0m\u001b[0;34m\u001b[0m\u001b[0;34m\u001b[0m\u001b[0m\n\u001b[1;32m     14\u001b[0m     \u001b[0mpbm_max\u001b[0m \u001b[0;34m=\u001b[0m \u001b[0mpop_by_month\u001b[0m\u001b[0;34m[\u001b[0m\u001b[0mlocation_dict\u001b[0m\u001b[0;34m[\u001b[0m\u001b[0mlocation\u001b[0m\u001b[0;34m]\u001b[0m\u001b[0;34m]\u001b[0m\u001b[0;34m.\u001b[0m\u001b[0mmax\u001b[0m\u001b[0;34m(\u001b[0m\u001b[0;34m)\u001b[0m\u001b[0;34m\u001b[0m\u001b[0;34m\u001b[0m\u001b[0m\n\u001b[0;32m---> 15\u001b[0;31m     \u001b[0mcamps_max\u001b[0m \u001b[0;34m=\u001b[0m \u001b[0mcamps\u001b[0m\u001b[0;34m[\u001b[0m\u001b[0mcamps\u001b[0m\u001b[0;34m[\u001b[0m\u001b[0;34m'Internment Camp Name'\u001b[0m\u001b[0;34m]\u001b[0m \u001b[0;34m==\u001b[0m \u001b[0mlocation\u001b[0m\u001b[0;34m]\u001b[0m\u001b[0;34m[\u001b[0m\u001b[0;34m'Maximum Population'\u001b[0m\u001b[0;34m]\u001b[0m\u001b[0;34m[\u001b[0m\u001b[0;36m0\u001b[0m\u001b[0;34m]\u001b[0m\u001b[0;34m\u001b[0m\u001b[0;34m\u001b[0m\u001b[0m\n\u001b[0m\u001b[1;32m     16\u001b[0m     \u001b[0mbar\u001b[0m \u001b[0;34m=\u001b[0m \u001b[0msns\u001b[0m\u001b[0;34m.\u001b[0m\u001b[0mbarplot\u001b[0m\u001b[0;34m(\u001b[0m\u001b[0mx\u001b[0m \u001b[0;34m=\u001b[0m\u001b[0;34m[\u001b[0m\u001b[0;34m'camps df'\u001b[0m\u001b[0;34m,\u001b[0m \u001b[0;34m'pop_by_month df'\u001b[0m\u001b[0;34m]\u001b[0m\u001b[0;34m,\u001b[0m \u001b[0my\u001b[0m\u001b[0;34m=\u001b[0m\u001b[0;34m[\u001b[0m\u001b[0mcamps_max\u001b[0m\u001b[0;34m,\u001b[0m \u001b[0mpbm_max\u001b[0m\u001b[0;34m]\u001b[0m\u001b[0;34m)\u001b[0m\u001b[0;34m;\u001b[0m\u001b[0;34m\u001b[0m\u001b[0;34m\u001b[0m\u001b[0m\n\u001b[1;32m     17\u001b[0m \u001b[0;34m\u001b[0m\u001b[0m\n",
          "\u001b[0;32m/Library/Frameworks/Python.framework/Versions/3.10/lib/python3.10/site-packages/pandas/core/series.py\u001b[0m in \u001b[0;36m__getitem__\u001b[0;34m(self, key)\u001b[0m\n\u001b[1;32m    940\u001b[0m \u001b[0;34m\u001b[0m\u001b[0m\n\u001b[1;32m    941\u001b[0m         \u001b[0;32melif\u001b[0m \u001b[0mkey_is_scalar\u001b[0m\u001b[0;34m:\u001b[0m\u001b[0;34m\u001b[0m\u001b[0;34m\u001b[0m\u001b[0m\n\u001b[0;32m--> 942\u001b[0;31m             \u001b[0;32mreturn\u001b[0m \u001b[0mself\u001b[0m\u001b[0;34m.\u001b[0m\u001b[0m_get_value\u001b[0m\u001b[0;34m(\u001b[0m\u001b[0mkey\u001b[0m\u001b[0;34m)\u001b[0m\u001b[0;34m\u001b[0m\u001b[0;34m\u001b[0m\u001b[0m\n\u001b[0m\u001b[1;32m    943\u001b[0m \u001b[0;34m\u001b[0m\u001b[0m\n\u001b[1;32m    944\u001b[0m         \u001b[0;32mif\u001b[0m \u001b[0mis_hashable\u001b[0m\u001b[0;34m(\u001b[0m\u001b[0mkey\u001b[0m\u001b[0;34m)\u001b[0m\u001b[0;34m:\u001b[0m\u001b[0;34m\u001b[0m\u001b[0;34m\u001b[0m\u001b[0m\n",
          "\u001b[0;32m/Library/Frameworks/Python.framework/Versions/3.10/lib/python3.10/site-packages/pandas/core/series.py\u001b[0m in \u001b[0;36m_get_value\u001b[0;34m(self, label, takeable)\u001b[0m\n\u001b[1;32m   1049\u001b[0m \u001b[0;34m\u001b[0m\u001b[0m\n\u001b[1;32m   1050\u001b[0m         \u001b[0;31m# Similar to Index.get_value, but we do not fall back to positional\u001b[0m\u001b[0;34m\u001b[0m\u001b[0;34m\u001b[0m\u001b[0m\n\u001b[0;32m-> 1051\u001b[0;31m         \u001b[0mloc\u001b[0m \u001b[0;34m=\u001b[0m \u001b[0mself\u001b[0m\u001b[0;34m.\u001b[0m\u001b[0mindex\u001b[0m\u001b[0;34m.\u001b[0m\u001b[0mget_loc\u001b[0m\u001b[0;34m(\u001b[0m\u001b[0mlabel\u001b[0m\u001b[0;34m)\u001b[0m\u001b[0;34m\u001b[0m\u001b[0;34m\u001b[0m\u001b[0m\n\u001b[0m\u001b[1;32m   1052\u001b[0m         \u001b[0;32mreturn\u001b[0m \u001b[0mself\u001b[0m\u001b[0;34m.\u001b[0m\u001b[0mindex\u001b[0m\u001b[0;34m.\u001b[0m\u001b[0m_get_values_for_loc\u001b[0m\u001b[0;34m(\u001b[0m\u001b[0mself\u001b[0m\u001b[0;34m,\u001b[0m \u001b[0mloc\u001b[0m\u001b[0;34m,\u001b[0m \u001b[0mlabel\u001b[0m\u001b[0;34m)\u001b[0m\u001b[0;34m\u001b[0m\u001b[0;34m\u001b[0m\u001b[0m\n\u001b[1;32m   1053\u001b[0m \u001b[0;34m\u001b[0m\u001b[0m\n",
          "\u001b[0;32m/Library/Frameworks/Python.framework/Versions/3.10/lib/python3.10/site-packages/pandas/core/indexes/base.py\u001b[0m in \u001b[0;36mget_loc\u001b[0;34m(self, key, method, tolerance)\u001b[0m\n\u001b[1;32m   3361\u001b[0m                 \u001b[0;32mreturn\u001b[0m \u001b[0mself\u001b[0m\u001b[0;34m.\u001b[0m\u001b[0m_engine\u001b[0m\u001b[0;34m.\u001b[0m\u001b[0mget_loc\u001b[0m\u001b[0;34m(\u001b[0m\u001b[0mcasted_key\u001b[0m\u001b[0;34m)\u001b[0m\u001b[0;34m\u001b[0m\u001b[0;34m\u001b[0m\u001b[0m\n\u001b[1;32m   3362\u001b[0m             \u001b[0;32mexcept\u001b[0m \u001b[0mKeyError\u001b[0m \u001b[0;32mas\u001b[0m \u001b[0merr\u001b[0m\u001b[0;34m:\u001b[0m\u001b[0;34m\u001b[0m\u001b[0;34m\u001b[0m\u001b[0m\n\u001b[0;32m-> 3363\u001b[0;31m                 \u001b[0;32mraise\u001b[0m \u001b[0mKeyError\u001b[0m\u001b[0;34m(\u001b[0m\u001b[0mkey\u001b[0m\u001b[0;34m)\u001b[0m \u001b[0;32mfrom\u001b[0m \u001b[0merr\u001b[0m\u001b[0;34m\u001b[0m\u001b[0;34m\u001b[0m\u001b[0m\n\u001b[0m\u001b[1;32m   3364\u001b[0m \u001b[0;34m\u001b[0m\u001b[0m\n\u001b[1;32m   3365\u001b[0m         \u001b[0;32mif\u001b[0m \u001b[0mis_scalar\u001b[0m\u001b[0;34m(\u001b[0m\u001b[0mkey\u001b[0m\u001b[0;34m)\u001b[0m \u001b[0;32mand\u001b[0m \u001b[0misna\u001b[0m\u001b[0;34m(\u001b[0m\u001b[0mkey\u001b[0m\u001b[0;34m)\u001b[0m \u001b[0;32mand\u001b[0m \u001b[0;32mnot\u001b[0m \u001b[0mself\u001b[0m\u001b[0;34m.\u001b[0m\u001b[0mhasnans\u001b[0m\u001b[0;34m:\u001b[0m\u001b[0;34m\u001b[0m\u001b[0;34m\u001b[0m\u001b[0m\n",
          "\u001b[0;31mKeyError\u001b[0m: 0"
         ]
        }
       ]
      }
     },
     "b0f39bde2e9747f2bf5af4443e7b6249": {
      "model_module": "@jupyter-widgets/base",
      "model_module_version": "1.2.0",
      "model_name": "LayoutModel",
      "state": {}
     },
     "d45cc91e6a344ce5854d1b9c7810bccf": {
      "model_module": "@jupyter-widgets/controls",
      "model_module_version": "1.5.0",
      "model_name": "DropdownModel",
      "state": {
       "_options_labels": [
        "Gila River Relocation Center",
        "Poston Relocation Center",
        "Jerome Relocation Center",
        "Rohwer Relocation Center",
        "Manzanar Relocation Center",
        "Tule Lake Relocation Center",
        "Granada Relocation Center",
        "Minidoka Relocation Center",
        "Topaz Relocation Center",
        "Heart Mountain Relocation Center"
       ],
       "description": "location",
       "index": 8,
       "layout": "IPY_MODEL_dae3d4c81ace47acb9289e9a85d33fff",
       "style": "IPY_MODEL_5c40898272b7411a9d4cbd64aea9d6de"
      }
     },
     "dae3d4c81ace47acb9289e9a85d33fff": {
      "model_module": "@jupyter-widgets/base",
      "model_module_version": "1.2.0",
      "model_name": "LayoutModel",
      "state": {}
     }
    },
    "version_major": 2,
    "version_minor": 0
   }
  }
 },
 "nbformat": 4,
 "nbformat_minor": 4
}
