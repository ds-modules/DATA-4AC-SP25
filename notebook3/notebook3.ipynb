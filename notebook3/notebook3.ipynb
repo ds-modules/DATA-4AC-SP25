{
 "cells": [
  {
   "cell_type": "markdown",
   "id": "ba66d3da-9a72-4a86-bebd-5d085b70ce0f",
   "metadata": {},
   "source": [
    "# Notebook 3: Prison Realignment\n",
    "    \n",
    "In this notebook, we'll look at California's Public Safety Realignment initiative to understand the limitations of telling stories through top-down, population-level data. Along the way, we'll learn about plotting line graphs to visualize changes in measurements over time.\n",
    "    \n",
    "    \n",
    "### Learning Outcomes:\n",
    "After completing this notebook, you will learn about:\n",
    "- The impact of realignment on prisons and county jails in California\n",
    "- Lateral approaches to research and advocacy\n",
    "- Preparing data for visualization and analysis\n",
    "- Plotting multiple variables in a time series\n",
    "    \n",
    "### Table of Contents\n",
    "\n",
    "1. Part 1: The View From Above\n",
    "    - Population-level stories\n",
    "2. Part 2: What's Left Out\n",
    "    - Prisons and jails\n",
    "    - Proposition 47\n",
    "    - Disproportionate effects of Realignment\n",
    "    - Differential representation in data work\n",
    "    - Systemic human rights violations\n",
    "\n",
    "---\n",
    "**Dependencies**"
   ]
  },
  {
   "cell_type": "code",
   "execution_count": null,
   "id": "a3d9413a-11d9-4599-8b8f-b2d255cc4982",
   "metadata": {},
   "outputs": [],
   "source": [
    "# Run this cell to install dependencies\n",
    "\n",
    "import otter\n",
    "generator = otter.Notebook()\n",
    "\n",
    "# This loads tools from the datascience library\n",
    "from datascience import * \n",
    "# Loads numerical methods\n",
    "import numpy as np\n",
    "# Loads table methods\n",
    "import pandas as pd\n",
    "\n",
    "# This loads some visualization tools\n",
    "import matplotlib  \n",
    "%matplotlib inline\n",
    "import matplotlib.pyplot as plt\n",
    "import seaborn as sns\n",
    "# This selects a certain 'style' for our graphs\n",
    "# plt.style.use('fivethirtyeight') \n",
    "#sns.set_style(\"ticks\")\n",
    "plt.style.use(\"bmh\")\n",
    "\n",
    "\n",
    "# Loads a widgets library that will allow for interactive learning\n",
    "import ipywidgets as widgets "
   ]
  },
  {
   "cell_type": "markdown",
   "id": "20072c88-d2bd-4248-be7f-4e39d292d9bb",
   "metadata": {},
   "source": [
    "## Part 1: The View From Above\n",
    "\n",
    "In 2011, the Supreme Court ruled 5-4 that the severity of overcrowding in California prisons had resulted in failures to meet the mental and medical health needs of incarcerated people. These failures were so extreme, the Court argued, that life in California prisons constituted cruel and unusual punishment—a violation of the Eighth Amendment. It was “an uncontested fact,” the Supreme Court upheld, that “an inmate in one of California’s prisons needlessly dies every six or seven days due to constitutional deficiencies” caused by overcrowding ([Brown v. Plata, Opinion of the Court](https://www.law.cornell.edu/supct/html/09-1233.ZO.html)). At the time, California prisons held 156,000 residents, nearly 200% of the 80,000 total resident capacity the institutions were designed for. The Court ordered that the state reduce its prison population to 137.5% of its designed capacity (around 110,000 individuals) within two years. A population reduction of as many as 46,000 incarcerated people was ordered **\"as a remedy to cure a systemic violation of the Eighth Amendment\"** ([Brown v. Plata, Opinion of the Court](https://www.law.cornell.edu/supct/html/09-1233.ZO.html)).<br><br>\n",
    "\n",
    "<center><img src=\"images/tehachapi_cropped2.png\" width=\"900px\"></center>\n",
    "<center><i>Arial view of a mural created by artist JR and 28 residents of California Correctional Institution, a maximum-security prison in Tehachapi, California (<a ref=\"https://www.jr-art.net/projects/tehachapi\">The Yard, 2019</a>).</i></center><br>\n",
    "\n",
    "<center><p style=\"text-align: justify; font-size: 18px; margin-left: 15%; margin-right: 15%; font-family: arial; font-style: oblique; font-weight: 1;\">To incarcerate, society takes from prisoners the means to provide for their own needs. [...] A prison that deprives prisoners of basic sustenance, including adequate medical care, is incompatible with the concept of human dignity and has no place in civilized society<br>\n",
    "— Former associate justice Anthony Kennedy (<a href=\"https://www.law.cornell.edu/supct/html/09-1233.ZO.html\">Brown v. Plata, Opinion of the Court</a>)</p></center>\n",
    "\n",
    "Run the cell below to visualize the state of incarcerated populations in California in 2011, the designed capacity of all California prisons, and the mandated population post-reduction."
   ]
  },
  {
   "cell_type": "code",
   "execution_count": null,
   "id": "1a0cdde4-72c6-4f27-b969-480facd1b84f",
   "metadata": {},
   "outputs": [],
   "source": [
    "# Just run this cell\n",
    "overpopulation_metrics = pd.DataFrame({\"In 2011\": [156000], \"Court-mandated reduction\": [110000], \"Designed capacity\": [80000]})\n",
    "\n",
    "# with sns.axes_style(\"whitegrid\"):\n",
    "sns.barplot(overpopulation_metrics)\n",
    "plt.ylabel(\"Incarcerated Population\")\n",
    "plt.title(\"Incarcerated Population in California Prisons\")\n",
    "plt.show()"
   ]
  },
  {
   "cell_type": "markdown",
   "id": "928cfbe5-ef45-48b7-aab7-529d615f306b",
   "metadata": {},
   "source": [
    "Following the Supreme Court's decision, California launched the Public Safety Realigntment initiative (officially referred to as \"Realignment\"). Realignment sought to meet the Court's mandate through a series of laws, under which, new offenders sentenced to more than one year in prison for non-serious, non-sexual, and non-violent crimes would serve shortened sentences in county jails, instead, and be eligible for release under county-, rather than state-supervised parole."
   ]
  },
  {
   "cell_type": "markdown",
   "id": "ff4e1f0f-be26-4afc-a32d-cc3ebdbf3339",
   "metadata": {},
   "source": [
    "<!-- BEGIN QUESTION -->\n",
    "\n",
    "<div class=\"alert alert-block alert-danger\">\n",
    "    <b>Part 1, Question 1:</b> Describe the trend in total California prison population size we would expect to see over time if the statewide prison incarceration rate (the rate at which individuals enter and begin their sentences at prisons) is less than the statewide release rate (the rate at which individuals leave prison by finishing their sentence, earning parole, or dying behind bars). What would a line graph of total California prison population size look like over time?\n",
    "</div>\n",
    "\n",
    "\n",
    "<!--\n",
    "BEGIN QUESTION\n",
    "name: 1.1\n",
    "points: 1\n",
    "manual: true\n",
    "-->"
   ]
  },
  {
   "cell_type": "markdown",
   "id": "5b447244-e359-47e9-93d5-ee148569f449",
   "metadata": {},
   "source": [
    "**Answer:** *Double click to edit this markdown cell with your answer*"
   ]
  },
  {
   "cell_type": "markdown",
   "id": "c1505fef-06be-438f-b9c2-44cf8097b6c8",
   "metadata": {},
   "source": [
    "Realignment made no direct reforms to conditions, programs, or policies *within* state prisons, and instead aimed to improve medical and mental healthcare inside by reducing the load of overcrowding on already existing services. Realignment also did not relocate any of those currently serving similar sentences in state prisons to county jails. Instead, it lowered the incarceration rate of state prisons to be less than the release rate by incarcerating people in jails, insteaed, allowing the total prison population to fall gradually over time as jail populations rose.\n",
    "\n",
    "Opponents of Realignment claimed that shorter sentences, served in jail, for people convicted of non-serious, non-sexual, and non-violent crimes would lead to an increase in violent crime in the counties in which they were paroled and released. While auto theft rates rose following Realignment, shorter sentences and reduced prison incarceration did **not** increase violent crime rates ([PPIC, 2015](https://www.ppic.org/publication/realignment-incarceration-and-crime-trends-in-california/))."
   ]
  },
  {
   "cell_type": "markdown",
   "id": "360c1d5f-1ba3-4634-bec9-70cf57487e9c",
   "metadata": {},
   "source": [
    "### Population-level stories\n",
    "\n",
    "In this notebook, we'll be working with data from the California Department of Corrections and Rehabilitation (CDCR), the body that manages all California state prisons, and the Board of State and Community Corrections' (BSCC) Jail Profile Survey. The Jail Profile Survey aggregates data reported by local agencies, and is used to determine need across the state.\n",
    "\n",
    "Below, we load and prepare this data for use."
   ]
  },
  {
   "cell_type": "code",
   "execution_count": null,
   "id": "93c9fc83-cfbc-49ca-a652-248cd960b1ec",
   "metadata": {
    "scrolled": true
   },
   "outputs": [],
   "source": [
    "# Just run this cell\n",
    "cdcr_prison_data = pd.read_csv(\"data/prisons3.csv\").drop(columns=[\"Unnamed: 0\"])\n",
    "bscc_jail_data = pd.read_csv(\"data/jails.csv\").drop(columns=[\"Unnamed: 0\"])"
   ]
  },
  {
   "cell_type": "code",
   "execution_count": null,
   "id": "9c37a7e1-2645-4d6f-b3c2-8e448fb7c030",
   "metadata": {},
   "outputs": [],
   "source": [
    "# Just run this cell\n",
    "cdcr_prison_data.head()"
   ]
  },
  {
   "cell_type": "code",
   "execution_count": null,
   "id": "038760d9-fb9d-4360-8c6f-c7e39b11b66b",
   "metadata": {},
   "outputs": [],
   "source": [
    "# Just run this cell\n",
    "bscc_jail_data.head(5)"
   ]
  },
  {
   "cell_type": "markdown",
   "id": "755fe124-8f5c-4188-ac13-b7a3e3a2af98",
   "metadata": {},
   "source": [
    "<div class=\"alert alert-block alert-info\">These datasets reproduce and legitimize gender binaries and stigmas around criminality. Naively using this data as if it doesn't carry the potential for representational harm is irresponsible, dangerous, and antithetical to data justice work. Instead of asking you to analyze and reproduce these binaries and stigmas without question as we learn from the population-level stories, we'll gesture towards more thoughtful and nuanced possibilities.\n",
    "</div>"
   ]
  },
  {
   "cell_type": "code",
   "execution_count": null,
   "id": "c31828a1-b7f6-4a6c-b467-832fa93f3f3d",
   "metadata": {},
   "outputs": [],
   "source": [
    "prison_population_by_year = cdcr_prison_data[[\"year\", \"total_population\"]].groupby(\"year\").agg(\"sum\").reset_index().rename(columns={\"year\": \"Year\"})\n",
    "prison_population_by_year.head(5)"
   ]
  },
  {
   "cell_type": "markdown",
   "id": "437eee20-a278-48b0-a5d1-2c9ebc626fd1",
   "metadata": {},
   "source": [
    "<div class=\"alert alert-block alert-danger\">\n",
    "    <b>Part 1, Question 2:</b> In the cell below, fill in the ellipses to produce a lineplot of the total California prison population over time, using the prison_population_by_year dataframe, and label its axes. Check out the relevant documentation from <a href=\"https://seaborn.pydata.org/generated/seaborn.lineplot.html\">seaborn</a> and <a href=\"https://matplotlib.org/stable/api/_as_gen/matplotlib.pyplot.xlabel.html\">matplotlib</a> if you get stuck."
   ]
  },
  {
   "cell_type": "code",
   "execution_count": null,
   "id": "b32104db-b194-498b-a7b0-728bd56fd773",
   "metadata": {
    "scrolled": true
   },
   "outputs": [],
   "source": [
    "sns.lineplot(data=..., x=\"...\", y=\"...\", color=\"r\")\n",
    "plt.xlabel(\"...\")\n",
    "plt.ylabel(\"...\")\n",
    "\n",
    "# Ignore, and do not alter, the code below. This ensures clear formatting of your lineplot.\n",
    "plt.axvline(2011, color=\"g\")\n",
    "plt.title(\"CA State Prison Population Over Time\")\n",
    "plt.ticklabel_format(axis=\"y\")\n",
    "plt.ticklabel_format(axis=\"y\", style=\"plain\")\n",
    "plt.show();"
   ]
  },
  {
   "cell_type": "markdown",
   "id": "cc409e77-f41b-4274-b5b2-105abc6a7ca3",
   "metadata": {},
   "source": [
    "<div class=\"alert alert-block alert-danger\">\n",
    "    <b>Part 1, Question 3:</b> In the plot above, we marked a year on the x-axis with a green vertical line. Which year is marked, and why was it chosen in the context of this notebook?\n",
    "</div>"
   ]
  },
  {
   "cell_type": "markdown",
   "id": "afb114e7-59d7-469f-91c4-b9c3481d20ce",
   "metadata": {},
   "source": [
    "**Answer:** *Double click to edit this markdown cell with your answer*"
   ]
  },
  {
   "cell_type": "markdown",
   "id": "9ac990fe-086c-41fe-ba5d-a7cc38655cb6",
   "metadata": {},
   "source": [
    "The population-level data tells a success story of Realignment Looking only at prison population size, we see the technical shift that Realignment sought to achieve—**supposed statistical evidence of a legislative \"magic bullet\" in remedying overcrowding.**\n",
    "\n",
    "Realignment was a well-intentioned step towards prison reform, but this \"view from above\" leaves everything but population out of the story, including differential vulnerabilities and injustices within the larger prison industrial complex, and the failure of Realignment to create structural change to prevent the resurfacing of systemically inhumane conditions.\n",
    "\n",
    "In the cell below, we add jail populations to the \"view from above\" that CDCR administrators, CA state legislators, and the Supreme Court used to monitor Realignment's technical progress. In what follows, we explore **the stories that this view ignores**."
   ]
  },
  {
   "cell_type": "code",
   "execution_count": null,
   "id": "1a14fbb4-00c9-4d56-a7a1-240958d3ef1b",
   "metadata": {},
   "outputs": [],
   "source": [
    "# Aggregating total population in CA jails by year\n",
    "jail_population_by_year = bscc_jail_data[[\"Year\", \"Total facility ADP\"]].groupby(\"Year\").agg(\"sum\").reset_index()\n",
    "jail_population_by_year.head()\n",
    "\n",
    "\n",
    "# Merging total population in CA jails with total population in CA prisons\n",
    "combined_populations_by_year = jail_population_by_year.merge(prison_population_by_year, how=\"inner\", on=\"Year\").rename(\n",
    "                               columns={\"Total facility ADP\": \"Total Jail Population\", \"total_population\": \"Total Prison Population\"}).set_index(\"Year\")\n",
    "combined_populations_by_year.head(5)"
   ]
  },
  {
   "cell_type": "markdown",
   "id": "6790e87d-2c0c-4328-9ccb-2237c380339b",
   "metadata": {},
   "source": [
    "<div class=\"alert alert-block alert-danger\">\n",
    "    <b>Part 1, Question 4:</b> In the cell below, fill in the ellipses to produce a lineplot comparing the total population of California prisons and jails over time, using the combined_populations_by_year dataframe, and label its axes. Check out the relevant documentation from <a href=\"https://seaborn.pydata.org/generated/seaborn.lineplot.html\">seaborn</a> and <a href=\"https://matplotlib.org/stable/api/_as_gen/matplotlib.pyplot.xlabel.html\">matplotlib</a> if you get stuck."
   ]
  },
  {
   "cell_type": "code",
   "execution_count": null,
   "id": "d0ce61b8-6f5d-473c-9ea5-718bb56aa55e",
   "metadata": {
    "scrolled": true
   },
   "outputs": [],
   "source": [
    "sns.lineplot(data=...) # HINT: sns.lineplot only requires one argument to produce a visualization, given the format of the data above\n",
    "plt.ylabel(\"...\")\n",
    "plt.xlabel(\"...\")\n",
    "\n",
    "\n",
    "# Ignore, and do not alter, the code below. This ensures clear formatting of your lineplot.\n",
    "plt.legend(loc=\"upper right\")\n",
    "plt.axvline(2011, color=\"g\")\n",
    "plt.title(\"Comparison of CA Prison and Jail Populations\")\n",
    "plt.ylabel(\"Population\")\n",
    "plt.ticklabel_format(axis=\"y\", style=\"plain\")\n",
    "plt.xlabel(\"Year\")\n",
    "plt.show()"
   ]
  },
  {
   "cell_type": "markdown",
   "id": "a8944c5e-58db-40c6-a2a8-c52658237eb5",
   "metadata": {},
   "source": [
    "<div class=\"alert alert-block alert-danger\">\n",
    "    <b>Part 1, Question 5:</b> Realignment aimed to decrease prison populations over time by incarcerating people in jails, instead. Does the visualization above suggest that Realignment succeeded in this goal?\n",
    "</div>"
   ]
  },
  {
   "cell_type": "markdown",
   "id": "946ac2e0-c76c-4e17-8abb-b6e18c3f1eec",
   "metadata": {},
   "source": [
    "**Answer:** *Double click to edit this markdown cell with your answer*"
   ]
  },
  {
   "cell_type": "markdown",
   "id": "ab5b87c9-ac13-41d2-90ca-cd248359a68e",
   "metadata": {},
   "source": [
    "## Part 2: What's Left Out"
   ]
  },
  {
   "cell_type": "markdown",
   "id": "f4ce0c28-6193-4f89-8402-39e129cbc604",
   "metadata": {},
   "source": [
    "### Prisons and jails\n",
    "\n",
    "The visualization above compares prison and jail populations over time, confirming the technical success of CDCR officials at lessening overcrowding in state prisons by sending newly incarcerated people to jails, instead. Using this data to tell only a story of success, however, misses the fundamental differences in design, funding, and purpose of prisons and jails. \n",
    "\n",
    "<p style=\"text-align: justify; font-size: 18px; margin-left: 15%; margin-right: 15%; font-family: arial; font-style: oblique; font-weight: 1;\">In some places, the sheriff had no chance. The place was already crowded, and the place was already old, and the mission was already complex, and the budget was already not very good. \n",
    "<br>— Matt Cate, Former CDCR Secretary <br>(<a href=\"https://www.sacbee.com/news/investigations/california-prisons/article229376524.html\">Sacramento Bee, 2019</a>)</p>\n",
    "\n",
    "Prisons and jails serve very different purposes within the prison industrial complex, and, as such, are designed with different priorities and expectations in mind. Prisons are state- or federally-controlled facilities where people who have been convicted of more serious crimes, often felonies, serve their sentences. Jails, on the other hand, are city- or county-controlled facilities where people who are awaiting trial, or who have been convicted of low-level offenses (with sentences typically less than one year) are detained ([Vera, 2023](https://www.vera.org/news/u-s-jails-and-prisons-explained)). Nearly 70% of those incarcerated in jails, about 450,000 people, have not yet been found guilty of a crime. Many of these people remain in jail despite their legal innocence because they are unable to afford bail ([Prison Policy Initiative, 2024](https://www.prisonpolicy.org/reports/pie2024.html)). California's choice to reduce prison populations by increasing jail populations did not take into account the inherent differences in the design, culture, and population dynamics of these institutions, resulting in a number of foreseeable incongruities.\n",
    "\n",
    "County jails were not designed to hold as many people, for longer sentences, as they were required to hold following Realignment. By changing the context of these jails, placing added stress on already deteriorating and understaffed facilities, violence in jails surged across California. The increase in violence was unprecendented, but not unexpected. In an interview with the Sacramento Bee, Fresno County Sheriff Margaret Mims \"said 2018’s record number of fatalities inside her jail was predictable,\" and \"repeatedly characterized such deaths as an unfortunate consequence of jail life after realignment and expressed no remorse over her office’s failure to prevent them\" ([Sacramento Bee, 2019](https://www.sacbee.com/news/investigations/california-prisons/article229376524.html)).\n",
    "\n",
    "\n",
    "### Disproportionate effects and differential representation\n",
    "\n",
    "Not captured in population data is the disproportionate vulnerability and opportunity created by Realignment. Rather than thoughtlessly reproducing the gender binary of the data we are working with by using the population data and its provided features without question, it's important to think about why and how gender matters in the stories we tell about Realignment. One study of the data, for instance, shows that disproportionately fewer women were incarcerated in California prisons following Realignment (78.5% fewer women entered prison in 2012 than in 2010, while only 67.8% fewer men entered prison over the same period) ([Maternal and Child Health Journal, 2022](https://pmc.ncbi.nlm.nih.gov/articles/PMC8720545/)). Using population data can provide some insights, such as the fact that women who had given birth were more likely than those who hadn't to be convicted of non-violent crimes, but it cannot tell us other stories that matter—such as the experience of pregnancy in jails or prisons. In their [*Advancing Transgender Justice*](https://www.vera.org/advancing-transgender-justice) report, the Vera Institute of Justice attempt to illuminate stories that are similarly invisibilized in CDCR population data. They use tools, lines of questioning, habits, and perspectives that are not readily applicable to population-level data to inform the public and policymakers with stories of the transgender experience behind bars."
   ]
  },
  {
   "cell_type": "markdown",
   "id": "6b773327-2fd6-4da9-bf52-01111e721f35",
   "metadata": {},
   "source": [
    "<div class=\"alert alert-block alert-danger\">\n",
    "    <b>Part 2, Question 1:</b> Read the section on <a href=\"https://hdsr.mitpress.mit.edu/pub/st8rqqj2/release/3#community-sourced-prison-data\">\"Community Sourced Prison Data\"</a> from Dr. Kaneesha Johnson's <i>Two Regime's of Prison Data Collection</i>. Identify some of the features of the data work conducted by editors of <i>The Angolite</i> or the NCSCUP. What choices do they make that strike you? How does this approach result in different stories than those told in data we visualized from the CDCR and BSCC?\n",
    "</div>"
   ]
  },
  {
   "cell_type": "markdown",
   "id": "331e2321-0efe-4d3a-82e1-74a1e12fdca3",
   "metadata": {},
   "source": [
    "**Answer:** *Double click to edit this markdown cell with your answer*"
   ]
  },
  {
   "cell_type": "markdown",
   "id": "5665f54f-5a08-48d7-829b-1fd94ba92c26",
   "metadata": {},
   "source": [
    "### Proposition 47\n",
    "\n",
    "Passed by voters in 2014, California's Proposition 47 reclassified some felony drug and property offenses (with theft not exceeding $950) as misdemeanors. Before its passing, Realignment struggled to reduce the state prison population to the %137.5 of design capacity mandated by the Supreme Court. Within two years of Prop 47's passing, the total jail and prison population had fallen by roughly 13,000, the CDCR fulfilling the Supreme Court's mandate as a result ([PPIC, 2024](https://www.ppic.org/publication/crime-after-proposition-47-and-the-pandemic/)). Take a second to note this drop in the visualizations we plotted above. In its current framing, the population-level data we are working with does not satisfyingly tell the story of Proposition 47, nor the stories of parole reformation and effects on recidivism that came part and parcel with Realignment. Yet, despite the suite of reform efforts that came with Realignment, CA prisons and jails remained overcrowded, and the systemic human rights violations that drew the Supreme Court's attention in 2011 resurfaced during the COVID-19 pandemic.\n"
   ]
  },
  {
   "cell_type": "markdown",
   "id": "9e416689-b1ca-4f63-bcac-5f0ad555dc7c",
   "metadata": {},
   "source": [
    "### Systemic human rights violations\n",
    "Without direct changes to prison conditions, policies, and ideologies, people incarcerated in California prisons continued to struggle with many of the same mental and medical healthcare crises that the Supreme Court decalred unconstitutional in 2011. The experience of COVID-19 in prisons across the country, and especially California, brought persistent, systemic human rights violations obscured by population success stories to the forefront of attention.\n",
    "\n",
    "<p style=\"text-align: justify; font-size: 18px; margin-left: 15%; margin-right: 15%; font-family: arial; font-style: oblique; font-weight: 1;\"> I think some of the other guys might be “long haulers,” but they won’t say anything about their symptoms because it could mean winding up in isolation. When you’re isolated, you lose a lot of your personal property. No one wants to take that chance.<br>\n",
    "— James Ellis, incarcerated at Marion Correctional Facility <br>(<a href=\"https://www.themarshallproject.org/2021/04/23/how-we-survived-covid-19-in-prison\">The Marshall Project, 2021</a>)</p>"
   ]
  },
  {
   "cell_type": "markdown",
   "id": "6efd940c-122c-44c2-bb9c-938e015f1084",
   "metadata": {},
   "source": [
    "Testimony from people incarcerated during the pandemic reveal that officials in California prisons and jails were often lethally slow to embrace and ineffective in applying the best health guidelines as they came out. Listen to or read testimonies from people incarcerated at Chuckawalla Valley State Prison during the pandemic as they discuss [punishment](https://prisonpandemic.uci.edu/stories/punished-for-covid-2/) and [movement](https://prisonpandemic.uci.edu/stories/kept-moving-people-2/) during the pandemic."
   ]
  },
  {
   "cell_type": "markdown",
   "id": "4f00c3cf-d0fd-415d-9962-546e19e35544",
   "metadata": {},
   "source": [
    "<div class=\"alert alert-block alert-danger\">\n",
    "<b>Part 2, Question 2:</b> How does COVID-19 show us that overcrowding is not just a problem of bodies in space? Think about the way that the nature of COVID-19 is experienced differently in prisons, where proximity, airflow, and health guidelines are uniquely shaped by the priorities of the prison.\n",
    "</div>"
   ]
  },
  {
   "cell_type": "markdown",
   "id": "ec2346d7-9d46-4d20-a047-70b1aa37fe51",
   "metadata": {},
   "source": [
    "**Answer:** *Double click to edit this markdown cell with your answer*"
   ]
  },
  {
   "cell_type": "markdown",
   "id": "e102ba69-d220-4a0a-9f9c-3de8ad5c14bf",
   "metadata": {},
   "source": [
    "Despite the technical successes visualized in a falling prison population, the pandemic revealed the possibility for inhumane conditions to re "
   ]
  },
  {
   "cell_type": "markdown",
   "id": "dde6c3dc-ab25-4ba3-baca-145a9ba6adb4",
   "metadata": {},
   "source": [
    "<div class=\"alert alert-block alert-danger\">\n",
    "    <b>Part 2, Question 3:</b> Why is overcrowding a particularly difficult thing to represent using data and visualizations?\n",
    "</div>"
   ]
  },
  {
   "cell_type": "markdown",
   "id": "5b5a70f2-245a-4d34-a22d-d261069f77d9",
   "metadata": {},
   "source": [
    "**Answer:** *Double click to edit this markdown cell with your answer*"
   ]
  },
  {
   "cell_type": "markdown",
   "id": "6d916198-1247-4e74-9cc9-a85127c9a512",
   "metadata": {},
   "source": [
    "<div class=\"alert alert-block alert-danger\">\n",
    "    <b>Part 2, Question 4:</b> Reflecting on your answer from the previous question—would more data solve this problem? If so, how?\n",
    "</div>"
   ]
  },
  {
   "cell_type": "markdown",
   "id": "4b85085e-19a3-4c87-bf94-ee7dcf85ec20",
   "metadata": {},
   "source": [
    "**Answer:** *Double click to edit this markdown cell with your answer*"
   ]
  },
  {
   "cell_type": "markdown",
   "id": "671cb29c-66c5-4702-b576-77b967fa4216",
   "metadata": {},
   "source": [
    "---"
   ]
  },
  {
   "cell_type": "markdown",
   "id": "4e8348bb-4732-4af9-9f0f-80562fb03899",
   "metadata": {},
   "source": [
    "<div class=\"alert alert-block alert-info\">\n",
    "<b>Labor Question:</b> How much time did you spend completing this module? Did you find outside resources that helped you? if so what were they?\n",
    "</div>"
   ]
  },
  {
   "cell_type": "markdown",
   "id": "47836b13-643f-4f11-ab93-88f3d5b4d5fc",
   "metadata": {},
   "source": [
    "**Answer:** *Double click to edit this markdown cell with your answer*"
   ]
  },
  {
   "cell_type": "markdown",
   "id": "0caeb7fd-4087-4211-b0b3-5296c1b59874",
   "metadata": {},
   "source": [
    "**Congratulations on finishing Notebook 1!**\n",
    "\n",
    "The cell below generates a link to download your notebook as a zip file, which you can then submit.\n",
    "\n",
    "**Before downloading, run all cells and save the notebook using `command`/`control` + `s` *or* clicking the save icon in the toolbar at the top of notebook. This is very important to ensure that all of your work shows up in the downloaded file!**"
   ]
  },
  {
   "cell_type": "code",
   "execution_count": null,
   "id": "fba31246-f482-412e-94e9-0c16c6a4da77",
   "metadata": {},
   "outputs": [],
   "source": [
    "# Run all above cells, save your notebook, and then run this cell to export your submission.\n",
    "# Download the zip file, which contains a copy of your notebook and your written responses.\n",
    "generator.export(\"notebook3.ipynb\")"
   ]
  }
 ],
 "metadata": {
  "kernelspec": {
   "display_name": "Python 3 (ipykernel)",
   "language": "python",
   "name": "python3"
  },
  "language_info": {
   "codemirror_mode": {
    "name": "ipython",
    "version": 3
   },
   "file_extension": ".py",
   "mimetype": "text/x-python",
   "name": "python",
   "nbconvert_exporter": "python",
   "pygments_lexer": "ipython3",
   "version": "3.11.11"
  }
 },
 "nbformat": 4,
 "nbformat_minor": 5
}
